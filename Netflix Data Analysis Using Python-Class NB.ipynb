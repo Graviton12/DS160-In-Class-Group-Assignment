{
 "cells": [
  {
   "cell_type": "markdown",
   "id": "c068a1d0",
   "metadata": {},
   "source": [
    "# Netflix Data Analysis Using Python"
   ]
  },
  {
   "cell_type": "markdown",
   "id": "1b3ba75c",
   "metadata": {},
   "source": [
    "The Netflx data set has the information about the Tv Shows & Movies available on Netflix till 2021.\n",
    "\n",
    "The Data set available from Flexible which is a Third Party Netflix which engine , and available on Kaggle dataset for free."
   ]
  },
  {
   "cell_type": "markdown",
   "id": "6ff2a48f",
   "metadata": {},
   "source": [
    "# Import Library"
   ]
  },
  {
   "cell_type": "code",
   "execution_count": 1,
   "id": "0f9f6c8f",
   "metadata": {},
   "outputs": [],
   "source": [
    "import pandas as pd"
   ]
  },
  {
   "cell_type": "code",
   "execution_count": 2,
   "id": "7b13b091",
   "metadata": {},
   "outputs": [],
   "source": [
    "import numpy as np"
   ]
  },
  {
   "cell_type": "code",
   "execution_count": 3,
   "id": "afb8c15c",
   "metadata": {},
   "outputs": [],
   "source": [
    "import matplotlib.pyplot as plt"
   ]
  },
  {
   "cell_type": "markdown",
   "id": "4b0eb245",
   "metadata": {},
   "source": [
    "# Uploading Csv fle"
   ]
  },
  {
   "cell_type": "code",
   "execution_count": 4,
   "id": "ed2599bf",
   "metadata": {},
   "outputs": [],
   "source": [
    "df=pd.read_csv(\"Netflix.csv\")"
   ]
  },
  {
   "cell_type": "markdown",
   "id": "7039b6fb",
   "metadata": {},
   "source": [
    "# Data Preprocessing\n"
   ]
  },
  {
   "cell_type": "markdown",
   "id": "6ef53727",
   "metadata": {},
   "source": [
    "# .head()"
   ]
  },
  {
   "cell_type": "markdown",
   "id": "c00d2667",
   "metadata": {},
   "source": [
    "head is used show to the By default = 5 rows in the dataset"
   ]
  },
  {
   "cell_type": "code",
   "execution_count": 5,
   "id": "0e46aa7e",
   "metadata": {},
   "outputs": [
    {
     "data": {
      "text/html": [
       "<div>\n",
       "<style scoped>\n",
       "    .dataframe tbody tr th:only-of-type {\n",
       "        vertical-align: middle;\n",
       "    }\n",
       "\n",
       "    .dataframe tbody tr th {\n",
       "        vertical-align: top;\n",
       "    }\n",
       "\n",
       "    .dataframe thead th {\n",
       "        text-align: right;\n",
       "    }\n",
       "</style>\n",
       "<table border=\"1\" class=\"dataframe\">\n",
       "  <thead>\n",
       "    <tr style=\"text-align: right;\">\n",
       "      <th></th>\n",
       "      <th>Show_Id</th>\n",
       "      <th>Category</th>\n",
       "      <th>Title</th>\n",
       "      <th>Director</th>\n",
       "      <th>Cast</th>\n",
       "      <th>Country</th>\n",
       "      <th>Release_Date</th>\n",
       "      <th>Rating</th>\n",
       "      <th>Duration</th>\n",
       "      <th>Type</th>\n",
       "      <th>Description</th>\n",
       "    </tr>\n",
       "  </thead>\n",
       "  <tbody>\n",
       "    <tr>\n",
       "      <th>0</th>\n",
       "      <td>s1</td>\n",
       "      <td>TV Show</td>\n",
       "      <td>3%</td>\n",
       "      <td>NaN</td>\n",
       "      <td>João Miguel, Bianca Comparato, Michel Gomes, R...</td>\n",
       "      <td>Brazil</td>\n",
       "      <td>August 14, 2020</td>\n",
       "      <td>TV-MA</td>\n",
       "      <td>4 Seasons</td>\n",
       "      <td>International TV Shows, TV Dramas, TV Sci-Fi &amp;...</td>\n",
       "      <td>In a future where the elite inhabit an island ...</td>\n",
       "    </tr>\n",
       "    <tr>\n",
       "      <th>1</th>\n",
       "      <td>s2</td>\n",
       "      <td>Movie</td>\n",
       "      <td>07:19</td>\n",
       "      <td>Jorge Michel Grau</td>\n",
       "      <td>Demián Bichir, Héctor Bonilla, Oscar Serrano, ...</td>\n",
       "      <td>Mexico</td>\n",
       "      <td>December 23, 2016</td>\n",
       "      <td>TV-MA</td>\n",
       "      <td>93 min</td>\n",
       "      <td>Dramas, International Movies</td>\n",
       "      <td>After a devastating earthquake hits Mexico Cit...</td>\n",
       "    </tr>\n",
       "    <tr>\n",
       "      <th>2</th>\n",
       "      <td>s3</td>\n",
       "      <td>Movie</td>\n",
       "      <td>23:59</td>\n",
       "      <td>Gilbert Chan</td>\n",
       "      <td>Tedd Chan, Stella Chung, Henley Hii, Lawrence ...</td>\n",
       "      <td>Singapore</td>\n",
       "      <td>December 20, 2018</td>\n",
       "      <td>R</td>\n",
       "      <td>78 min</td>\n",
       "      <td>Horror Movies, International Movies</td>\n",
       "      <td>When an army recruit is found dead, his fellow...</td>\n",
       "    </tr>\n",
       "    <tr>\n",
       "      <th>3</th>\n",
       "      <td>s4</td>\n",
       "      <td>Movie</td>\n",
       "      <td>9</td>\n",
       "      <td>Shane Acker</td>\n",
       "      <td>Elijah Wood, John C. Reilly, Jennifer Connelly...</td>\n",
       "      <td>United States</td>\n",
       "      <td>November 16, 2017</td>\n",
       "      <td>PG-13</td>\n",
       "      <td>80 min</td>\n",
       "      <td>Action &amp; Adventure, Independent Movies, Sci-Fi...</td>\n",
       "      <td>In a postapocalyptic world, rag-doll robots hi...</td>\n",
       "    </tr>\n",
       "    <tr>\n",
       "      <th>4</th>\n",
       "      <td>s5</td>\n",
       "      <td>Movie</td>\n",
       "      <td>21</td>\n",
       "      <td>Robert Luketic</td>\n",
       "      <td>Jim Sturgess, Kevin Spacey, Kate Bosworth, Aar...</td>\n",
       "      <td>United States</td>\n",
       "      <td>January 1, 2020</td>\n",
       "      <td>PG-13</td>\n",
       "      <td>123 min</td>\n",
       "      <td>Dramas</td>\n",
       "      <td>A brilliant group of students become card-coun...</td>\n",
       "    </tr>\n",
       "  </tbody>\n",
       "</table>\n",
       "</div>"
      ],
      "text/plain": [
       "  Show_Id Category  Title           Director  \\\n",
       "0      s1  TV Show     3%                NaN   \n",
       "1      s2    Movie  07:19  Jorge Michel Grau   \n",
       "2      s3    Movie  23:59       Gilbert Chan   \n",
       "3      s4    Movie      9        Shane Acker   \n",
       "4      s5    Movie     21     Robert Luketic   \n",
       "\n",
       "                                                Cast        Country  \\\n",
       "0  João Miguel, Bianca Comparato, Michel Gomes, R...         Brazil   \n",
       "1  Demián Bichir, Héctor Bonilla, Oscar Serrano, ...         Mexico   \n",
       "2  Tedd Chan, Stella Chung, Henley Hii, Lawrence ...      Singapore   \n",
       "3  Elijah Wood, John C. Reilly, Jennifer Connelly...  United States   \n",
       "4  Jim Sturgess, Kevin Spacey, Kate Bosworth, Aar...  United States   \n",
       "\n",
       "        Release_Date Rating   Duration  \\\n",
       "0    August 14, 2020  TV-MA  4 Seasons   \n",
       "1  December 23, 2016  TV-MA     93 min   \n",
       "2  December 20, 2018      R     78 min   \n",
       "3  November 16, 2017  PG-13     80 min   \n",
       "4    January 1, 2020  PG-13    123 min   \n",
       "\n",
       "                                                Type  \\\n",
       "0  International TV Shows, TV Dramas, TV Sci-Fi &...   \n",
       "1                       Dramas, International Movies   \n",
       "2                Horror Movies, International Movies   \n",
       "3  Action & Adventure, Independent Movies, Sci-Fi...   \n",
       "4                                             Dramas   \n",
       "\n",
       "                                         Description  \n",
       "0  In a future where the elite inhabit an island ...  \n",
       "1  After a devastating earthquake hits Mexico Cit...  \n",
       "2  When an army recruit is found dead, his fellow...  \n",
       "3  In a postapocalyptic world, rag-doll robots hi...  \n",
       "4  A brilliant group of students become card-coun...  "
      ]
     },
     "execution_count": 5,
     "metadata": {},
     "output_type": "execute_result"
    }
   ],
   "source": [
    "df.head()"
   ]
  },
  {
   "cell_type": "markdown",
   "id": "765026b7",
   "metadata": {},
   "source": [
    "# .tail()"
   ]
  },
  {
   "cell_type": "markdown",
   "id": "8cd094b4",
   "metadata": {},
   "source": [
    "tail is used to show rows by Descending order"
   ]
  },
  {
   "cell_type": "code",
   "execution_count": 6,
   "id": "036745ba",
   "metadata": {},
   "outputs": [
    {
     "data": {
      "text/html": [
       "<div>\n",
       "<style scoped>\n",
       "    .dataframe tbody tr th:only-of-type {\n",
       "        vertical-align: middle;\n",
       "    }\n",
       "\n",
       "    .dataframe tbody tr th {\n",
       "        vertical-align: top;\n",
       "    }\n",
       "\n",
       "    .dataframe thead th {\n",
       "        text-align: right;\n",
       "    }\n",
       "</style>\n",
       "<table border=\"1\" class=\"dataframe\">\n",
       "  <thead>\n",
       "    <tr style=\"text-align: right;\">\n",
       "      <th></th>\n",
       "      <th>Show_Id</th>\n",
       "      <th>Category</th>\n",
       "      <th>Title</th>\n",
       "      <th>Director</th>\n",
       "      <th>Cast</th>\n",
       "      <th>Country</th>\n",
       "      <th>Release_Date</th>\n",
       "      <th>Rating</th>\n",
       "      <th>Duration</th>\n",
       "      <th>Type</th>\n",
       "      <th>Description</th>\n",
       "    </tr>\n",
       "  </thead>\n",
       "  <tbody>\n",
       "    <tr>\n",
       "      <th>7784</th>\n",
       "      <td>s7783</td>\n",
       "      <td>Movie</td>\n",
       "      <td>Zozo</td>\n",
       "      <td>Josef Fares</td>\n",
       "      <td>Imad Creidi, Antoinette Turk, Elias Gergi, Car...</td>\n",
       "      <td>Sweden, Czech Republic, United Kingdom, Denmar...</td>\n",
       "      <td>October 19, 2020</td>\n",
       "      <td>TV-MA</td>\n",
       "      <td>99 min</td>\n",
       "      <td>Dramas, International Movies</td>\n",
       "      <td>When Lebanon's Civil War deprives Zozo of his ...</td>\n",
       "    </tr>\n",
       "    <tr>\n",
       "      <th>7785</th>\n",
       "      <td>s7784</td>\n",
       "      <td>Movie</td>\n",
       "      <td>Zubaan</td>\n",
       "      <td>Mozez Singh</td>\n",
       "      <td>Vicky Kaushal, Sarah-Jane Dias, Raaghav Chanan...</td>\n",
       "      <td>India</td>\n",
       "      <td>March 2, 2019</td>\n",
       "      <td>TV-14</td>\n",
       "      <td>111 min</td>\n",
       "      <td>Dramas, International Movies, Music &amp; Musicals</td>\n",
       "      <td>A scrappy but poor boy worms his way into a ty...</td>\n",
       "    </tr>\n",
       "    <tr>\n",
       "      <th>7786</th>\n",
       "      <td>s7785</td>\n",
       "      <td>Movie</td>\n",
       "      <td>Zulu Man in Japan</td>\n",
       "      <td>NaN</td>\n",
       "      <td>Nasty C</td>\n",
       "      <td>NaN</td>\n",
       "      <td>September 25, 2020</td>\n",
       "      <td>TV-MA</td>\n",
       "      <td>44 min</td>\n",
       "      <td>Documentaries, International Movies, Music &amp; M...</td>\n",
       "      <td>In this documentary, South African rapper Nast...</td>\n",
       "    </tr>\n",
       "    <tr>\n",
       "      <th>7787</th>\n",
       "      <td>s7786</td>\n",
       "      <td>TV Show</td>\n",
       "      <td>Zumbo's Just Desserts</td>\n",
       "      <td>NaN</td>\n",
       "      <td>Adriano Zumbo, Rachel Khoo</td>\n",
       "      <td>Australia</td>\n",
       "      <td>October 31, 2020</td>\n",
       "      <td>TV-PG</td>\n",
       "      <td>1 Season</td>\n",
       "      <td>International TV Shows, Reality TV</td>\n",
       "      <td>Dessert wizard Adriano Zumbo looks for the nex...</td>\n",
       "    </tr>\n",
       "    <tr>\n",
       "      <th>7788</th>\n",
       "      <td>s7787</td>\n",
       "      <td>Movie</td>\n",
       "      <td>ZZ TOP: THAT LITTLE OL' BAND FROM TEXAS</td>\n",
       "      <td>Sam Dunn</td>\n",
       "      <td>NaN</td>\n",
       "      <td>United Kingdom, Canada, United States</td>\n",
       "      <td>March 1, 2020</td>\n",
       "      <td>TV-MA</td>\n",
       "      <td>90 min</td>\n",
       "      <td>Documentaries, Music &amp; Musicals</td>\n",
       "      <td>This documentary delves into the mystique behi...</td>\n",
       "    </tr>\n",
       "  </tbody>\n",
       "</table>\n",
       "</div>"
      ],
      "text/plain": [
       "     Show_Id Category                                    Title     Director  \\\n",
       "7784   s7783    Movie                                     Zozo  Josef Fares   \n",
       "7785   s7784    Movie                                   Zubaan  Mozez Singh   \n",
       "7786   s7785    Movie                        Zulu Man in Japan          NaN   \n",
       "7787   s7786  TV Show                    Zumbo's Just Desserts          NaN   \n",
       "7788   s7787    Movie  ZZ TOP: THAT LITTLE OL' BAND FROM TEXAS     Sam Dunn   \n",
       "\n",
       "                                                   Cast  \\\n",
       "7784  Imad Creidi, Antoinette Turk, Elias Gergi, Car...   \n",
       "7785  Vicky Kaushal, Sarah-Jane Dias, Raaghav Chanan...   \n",
       "7786                                            Nasty C   \n",
       "7787                         Adriano Zumbo, Rachel Khoo   \n",
       "7788                                                NaN   \n",
       "\n",
       "                                                Country        Release_Date  \\\n",
       "7784  Sweden, Czech Republic, United Kingdom, Denmar...    October 19, 2020   \n",
       "7785                                              India       March 2, 2019   \n",
       "7786                                                NaN  September 25, 2020   \n",
       "7787                                          Australia    October 31, 2020   \n",
       "7788              United Kingdom, Canada, United States       March 1, 2020   \n",
       "\n",
       "     Rating  Duration                                               Type  \\\n",
       "7784  TV-MA    99 min                       Dramas, International Movies   \n",
       "7785  TV-14   111 min     Dramas, International Movies, Music & Musicals   \n",
       "7786  TV-MA    44 min  Documentaries, International Movies, Music & M...   \n",
       "7787  TV-PG  1 Season                 International TV Shows, Reality TV   \n",
       "7788  TV-MA    90 min                    Documentaries, Music & Musicals   \n",
       "\n",
       "                                            Description  \n",
       "7784  When Lebanon's Civil War deprives Zozo of his ...  \n",
       "7785  A scrappy but poor boy worms his way into a ty...  \n",
       "7786  In this documentary, South African rapper Nast...  \n",
       "7787  Dessert wizard Adriano Zumbo looks for the nex...  \n",
       "7788  This documentary delves into the mystique behi...  "
      ]
     },
     "execution_count": 6,
     "metadata": {},
     "output_type": "execute_result"
    }
   ],
   "source": [
    "df.tail()"
   ]
  },
  {
   "cell_type": "markdown",
   "id": "2df4f57a",
   "metadata": {},
   "source": [
    "# .shape"
   ]
  },
  {
   "cell_type": "markdown",
   "id": "11191fba",
   "metadata": {},
   "source": [
    "It show the total no of rows & Column in the dataset"
   ]
  },
  {
   "cell_type": "code",
   "execution_count": 7,
   "id": "3408ca28",
   "metadata": {},
   "outputs": [
    {
     "data": {
      "text/plain": [
       "(7789, 11)"
      ]
     },
     "execution_count": 7,
     "metadata": {},
     "output_type": "execute_result"
    }
   ],
   "source": [
    "df.shape"
   ]
  },
  {
   "cell_type": "markdown",
   "id": "f792d26f",
   "metadata": {},
   "source": [
    "# .Columns"
   ]
  },
  {
   "cell_type": "markdown",
   "id": "20fa4ae3",
   "metadata": {},
   "source": [
    "It show the no of each Column"
   ]
  },
  {
   "cell_type": "code",
   "execution_count": 8,
   "id": "b03593be",
   "metadata": {},
   "outputs": [
    {
     "data": {
      "text/plain": [
       "Index(['Show_Id', 'Category', 'Title', 'Director', 'Cast', 'Country',\n",
       "       'Release_Date', 'Rating', 'Duration', 'Type', 'Description'],\n",
       "      dtype='object')"
      ]
     },
     "execution_count": 8,
     "metadata": {},
     "output_type": "execute_result"
    }
   ],
   "source": [
    "df.columns"
   ]
  },
  {
   "cell_type": "markdown",
   "id": "bcf310c4",
   "metadata": {},
   "source": [
    "# .info"
   ]
  },
  {
   "cell_type": "markdown",
   "id": "4f8dd793",
   "metadata": {},
   "source": [
    "This Attribute show the information about the data set"
   ]
  },
  {
   "cell_type": "code",
   "execution_count": 9,
   "id": "8aad8ed9",
   "metadata": {},
   "outputs": [
    {
     "data": {
      "text/plain": [
       "Show_Id         object\n",
       "Category        object\n",
       "Title           object\n",
       "Director        object\n",
       "Cast            object\n",
       "Country         object\n",
       "Release_Date    object\n",
       "Rating          object\n",
       "Duration        object\n",
       "Type            object\n",
       "Description     object\n",
       "dtype: object"
      ]
     },
     "execution_count": 9,
     "metadata": {},
     "output_type": "execute_result"
    }
   ],
   "source": [
    "df.dtypes"
   ]
  },
  {
   "cell_type": "code",
   "execution_count": 10,
   "id": "f78814e8",
   "metadata": {},
   "outputs": [
    {
     "name": "stdout",
     "output_type": "stream",
     "text": [
      "<class 'pandas.core.frame.DataFrame'>\n",
      "RangeIndex: 7789 entries, 0 to 7788\n",
      "Data columns (total 11 columns):\n",
      " #   Column        Non-Null Count  Dtype \n",
      "---  ------        --------------  ----- \n",
      " 0   Show_Id       7789 non-null   object\n",
      " 1   Category      7789 non-null   object\n",
      " 2   Title         7789 non-null   object\n",
      " 3   Director      5401 non-null   object\n",
      " 4   Cast          7071 non-null   object\n",
      " 5   Country       7282 non-null   object\n",
      " 6   Release_Date  7779 non-null   object\n",
      " 7   Rating        7782 non-null   object\n",
      " 8   Duration      7789 non-null   object\n",
      " 9   Type          7789 non-null   object\n",
      " 10  Description   7789 non-null   object\n",
      "dtypes: object(11)\n",
      "memory usage: 669.5+ KB\n"
     ]
    }
   ],
   "source": [
    "df.info()"
   ]
  },
  {
   "cell_type": "markdown",
   "id": "e3fbcca1",
   "metadata": {},
   "source": [
    "# .unique()"
   ]
  },
  {
   "cell_type": "markdown",
   "id": "008df379",
   "metadata": {},
   "source": [
    "In a column, It show the unique value of specific column.\n",
    "- Q. Find out what are the different countries predent in the dataset\n",
    "- Q. Pring any 5 countries from this dataset using array slicing"
   ]
  },
  {
   "cell_type": "code",
   "execution_count": 11,
   "id": "e37ab9a4",
   "metadata": {},
   "outputs": [
    {
     "data": {
      "text/plain": [
       "array(['Brazil', 'Mexico', 'Singapore', 'United States', 'Turkey',\n",
       "       'Egypt', 'India', 'Poland, United States', 'Thailand', 'Nigeria',\n",
       "       nan, 'Norway, Iceland, United States', 'United Kingdom', 'Japan',\n",
       "       'South Korea', 'Italy', 'Canada', 'Indonesia', 'Romania', 'Spain',\n",
       "       'Iceland', 'South Africa, Nigeria', 'France',\n",
       "       'United States, South Africa', 'Portugal, Spain',\n",
       "       'Hong Kong, China, Singapore', 'United States, Germany',\n",
       "       'South Africa, China, United States', 'Argentina',\n",
       "       'United States, France, Serbia', 'Germany',\n",
       "       'Denmark, France, Poland', 'Poland', 'Kenya',\n",
       "       'New Zealand, United Kingdom', 'Pakistan', 'Australia',\n",
       "       'Australia, United States', 'Mexico, United States',\n",
       "       'United States, China', 'China, Hong Kong', 'Taiwan',\n",
       "       'United States, United Kingdom', 'France, South Korea, Japan',\n",
       "       'United States, Canada', 'United Kingdom, United States',\n",
       "       'Netherlands, Denmark, South Africa', 'Canada, United States',\n",
       "       'Denmark', 'Hong Kong', 'France, Netherlands, Singapore', 'China',\n",
       "       'Philippines', 'United Kingdom, Spain, United States',\n",
       "       'United Arab Emirates, United States', 'Netherlands',\n",
       "       'United Kingdom, Hong Kong', 'Iran, France',\n",
       "       'United States, United Kingdom, France',\n",
       "       'United Kingdom, France, Belgium, United States, China',\n",
       "       'Argentina, Brazil, France, Poland, Germany, Denmark',\n",
       "       'Israel, United States', 'United States, Mexico',\n",
       "       'Uruguay, Argentina, Spain', 'Singapore, France',\n",
       "       'United Kingdom, United States, France, Germany',\n",
       "       'Turkey, United States', 'Bulgaria, United States',\n",
       "       'Australia, France', 'Hong Kong, Iceland, United States',\n",
       "       'United Arab Emirates', 'United States, Chile',\n",
       "       'Germany, France, Russia', 'Mauritius, South Africa',\n",
       "       'United States, Japan', 'Lebanon', 'United States, Bulgaria',\n",
       "       'Colombia', 'Uruguay, Argentina', 'Egypt, Algeria',\n",
       "       'France, Egypt', 'Uruguay', 'Soviet Union, India',\n",
       "       'Sweden, United States', 'South Africa', 'Malaysia',\n",
       "       'Ireland, United Kingdom, United States', 'Spain, Italy',\n",
       "       'United Kingdom, France, Germany',\n",
       "       'United States, Germany, Canada', 'United States, India',\n",
       "       'Japan, United States', 'Denmark, United States',\n",
       "       'South Africa, United States', 'Canada, Luxembourg',\n",
       "       'Serbia, United States', 'Canada, Nigeria',\n",
       "       'Iceland, Sweden, Belgium', 'Ireland, Canada',\n",
       "       'United States, Italy', 'Finland', 'India, Germany',\n",
       "       'China, Spain, South Korea, United States', 'Spain, Belgium',\n",
       "       'United Kingdom, Canada, United States, Germany',\n",
       "       'Brazil, Netherlands, United States, Colombia, Austria, Germany',\n",
       "       'France, Canada, Belgium',\n",
       "       'India, United Kingdom, China, Canada, Japan, South Korea, United States',\n",
       "       'France, Belgium', 'Indonesia, South Korea, Singapore', 'Norway',\n",
       "       'Peru', 'France, Senegal, Belgium', 'Canada, France', 'Chile',\n",
       "       'Romania, France, Switzerland, Germany',\n",
       "       'Bulgaria, United States, Spain, Canada', 'Sweden, Netherlands',\n",
       "       'Ghana', 'France, United States, Mexico',\n",
       "       'Australia, United Kingdom, United Arab Emirates, Canada',\n",
       "       'Singapore, United States', 'Japan, Canada, United States',\n",
       "       'Saudi Arabia',\n",
       "       'Australia, Armenia, Japan, Jordan, Mexico, Mongolia, New Zealand, Philippines, South Africa, Sweden, United States, Uruguay',\n",
       "       'United States, France', 'Norway, Denmark, Netherlands, Sweden',\n",
       "       'Namibia', 'Mexico, Finland', 'United States, Australia', 'Russia',\n",
       "       'Australia, Canada', 'United Kingdom, Ireland', 'Belgium, France',\n",
       "       'New Zealand', 'Uruguay, Spain, Mexico', 'South Korea, China',\n",
       "       'United States, Canada, Indonesia, United Kingdom, China, Singapore',\n",
       "       'India, Iran', 'United States, France, Japan',\n",
       "       'United Kingdom, France', 'Turkey, India', 'Philippines, Qatar',\n",
       "       'Vietnam', 'Ireland, Luxembourg, Belgium',\n",
       "       'Saudi Arabia, Syria, Egypt, Lebanon, Kuwait',\n",
       "       'Russia, United States', 'United Kingdom, Russia, United States',\n",
       "       'Argentina, Spain', 'Germany, Jordan, Netherlands',\n",
       "       'Hong Kong, China', 'Argentina, United States',\n",
       "       'France, Belgium, Spain', 'Germany, United States',\n",
       "       'Denmark, Sweden, Israel, United States',\n",
       "       'Ireland, United Kingdom', 'United States, Iceland',\n",
       "       'United Arab Emirates, United Kingdom, India', 'Sweden',\n",
       "       'Norway, Germany, Sweden', 'Finland, France', 'Denmark, Spain',\n",
       "       'United Kingdom, Russia',\n",
       "       'United States, United Kingdom, Australia',\n",
       "       'India, United Kingdom', 'United States, Canada, Ireland',\n",
       "       'Canada, United Kingdom',\n",
       "       'United States, Israel, Italy, South Africa',\n",
       "       'India, United States', 'United Kingdom, China',\n",
       "       'Indonesia, Singapore', 'Netherlands, Denmark, France, Germany',\n",
       "       'South Korea, Japan',\n",
       "       'Philippines, Canada, United Kingdom, United States',\n",
       "       'France, Malta, United States', 'Kuwait',\n",
       "       'United Kingdom, Pakistan', 'Ireland', 'France, New Zealand',\n",
       "       'United Kingdom, United States, Australia',\n",
       "       'United Kingdom, Czech Republic, United States, Germany, Bahamas',\n",
       "       'United States, Australia, China',\n",
       "       'China, Germany, India, United States', 'Germany, Sri Lanka',\n",
       "       'United States, Sweden', 'Canada, United States, Cayman Islands',\n",
       "       'India, France', 'United Kingdom, Canada',\n",
       "       'United States, India, Bangladesh',\n",
       "       'United States, Canada, France',\n",
       "       'Taiwan, China, France, United States', 'Brazil, France, Germany',\n",
       "       'United States,', 'Turkey, France, Germany, Poland',\n",
       "       'Australia, New Zealand, United States',\n",
       "       'Germany, United States, Hong Kong, Singapore',\n",
       "       'France, Germany, Switzerland', 'Mexico, Argentina',\n",
       "       'Italy, United States, Argentina',\n",
       "       'Germany, France, Luxembourg, United Kingdom, United States',\n",
       "       'Canada, United States, United Kingdom',\n",
       "       'United Kingdom, Canada, Italy', 'Czech Republic, France',\n",
       "       'Zimbabwe', 'United Kingdom, France, Germany, Spain',\n",
       "       'Taiwan, Hong Kong, United States, China', 'China, United States',\n",
       "       'Canada, Brazil', 'United Kingdom, Australia', 'Hungary',\n",
       "       'Germany, Australia', 'United Kingdom, Poland, United States',\n",
       "       'Bulgaria', 'Philippines, United States', 'Finland, Germany',\n",
       "       'United States, Thailand',\n",
       "       'Spain, Belgium, Switzerland, United States, China, United Kingdom',\n",
       "       'Denmark, Zimbabwe', 'United Kingdom, South Africa',\n",
       "       'Finland, Sweden, Norway, Latvia, Germany',\n",
       "       'United Kingdom, India',\n",
       "       'South Africa, United States, New Zealand, Canada',\n",
       "       'France, Qatar', 'France, Algeria',\n",
       "       'United States, Italy, United Kingdom, Liechtenstein',\n",
       "       'Denmark, France, Belgium, Italy, Netherlands, United States, United Kingdom',\n",
       "       'United States, Australia, Mexico',\n",
       "       'United Kingdom, Czech Republic, Germany, United States',\n",
       "       'Russia, Poland, Serbia', 'France, China, Japan, United States',\n",
       "       'United States, South Korea, China', 'Germany, Belgium',\n",
       "       'Chile, Argentina', 'China, United States, United Kingdom',\n",
       "       'Pakistan, Norway, United States',\n",
       "       'United Kingdom, Japan, United States', 'Philippines, Singapore',\n",
       "       'United States, Canada, Belgium, United Kingdom', 'Venezuela',\n",
       "       'Argentina, Uruguay, Serbia', 'United States, Mexico, Colombia',\n",
       "       'Colombia, Peru, United Kingdom', 'Brazil, United States',\n",
       "       'Czech Republic, United States',\n",
       "       'Canada, France, Italy, Morocco, United States',\n",
       "       'Canada, Spain, France', 'Hong Kong, United States',\n",
       "       'France, Canada, China, Cambodia', 'United States, Indonesia',\n",
       "       'Spain, France', 'Spain, Mexico, France', 'Spain, France, Italy',\n",
       "       'Spain, France, United States', 'United States, France, Canada',\n",
       "       'Israel', 'Italy, France', 'United Kingdom, Canada, United States',\n",
       "       'Cambodia, United States', 'China, Japan',\n",
       "       'United Arab Emirates, United States, United Kingdom',\n",
       "       'Argentina, Italy', 'United Kingdom, Israel, Russia',\n",
       "       'Italy, Switzerland, Albania, Poland', 'Spain, Cuba',\n",
       "       'United States, Brazil', 'United States, France, Mexico',\n",
       "       'United States, Nicaragua', 'Austria, Germany',\n",
       "       'United Arab Emirates, Jordan, Lebanon',\n",
       "       'France, United Kingdom, United States',\n",
       "       'United Kingdom, United States, Spain, Germany, Greece, Canada',\n",
       "       'France, Belgium, Luxembourg, Cambodia,', 'Italy, Turkey',\n",
       "       'Brazil, France', 'India, Turkey', 'Kenya, United States',\n",
       "       'United States, South Korea', 'South Korea, United States',\n",
       "       'Italy, Canada, France', 'Thailand, United States',\n",
       "       'United Kingdom, Denmark, Canada, Croatia', 'Netherlands, Belgium',\n",
       "       'United Kingdom, Canada, United States, Cayman Islands',\n",
       "       'Italy, Germany', 'United States, France, United Kingdom, Japan',\n",
       "       'United States, United Kingdom, Denmark, Sweden',\n",
       "       'United States, United Kingdom, Italy',\n",
       "       'United States, France, Canada, Spain', 'Uruguay, Guatemala',\n",
       "       'Germany, Australia, France, China',\n",
       "       'United States, United Kingdom, Japan',\n",
       "       'United States, United Kingdom, Canada',\n",
       "       'Italy, Switzerland, France, Germany',\n",
       "       'Russia, United States, China', 'United States, Canada, Germany',\n",
       "       'United States, Czech Republic', 'Ireland, United States',\n",
       "       'United States, United Arab Emirates',\n",
       "       'France, Australia, Germany', 'Hong Kong, China, United States',\n",
       "       'Lebanon, United Arab Emirates, France, Switzerland, Germany',\n",
       "       'United States, South Korea, Japan', 'Romania, United States',\n",
       "       'West Germany', 'United States, Ireland', 'Chile, Italy',\n",
       "       'Ireland, United Kingdom, Italy, United States', 'Belgium',\n",
       "       'Poland,', 'Slovenia, Croatia, Germany, Czech Republic, Qatar',\n",
       "       'Canada, United Kingdom, Netherlands',\n",
       "       'United Kingdom, United States, France',\n",
       "       'Indonesia, United Kingdom', 'United States, Spain, Germany',\n",
       "       'India, Japan', 'Switzerland, France, Belgium, United States',\n",
       "       'China, South Korea, United States',\n",
       "       'United Kingdom, France, Belgium',\n",
       "       'Canada, Ireland, United States',\n",
       "       'United Kingdom, United States, Dominican Republic',\n",
       "       'United States, Senegal', 'Germany, United Kingdom, United States',\n",
       "       'United States, Canada, United Kingdom',\n",
       "       'Canada, United States, France', 'United Kingdom, Germany, Canada',\n",
       "       'Argentina, France', 'South Africa, Germany, Netherlands, France',\n",
       "       'Canada, United States, United Kingdom, France, Luxembourg',\n",
       "       'Finland, Germany, Belgium',\n",
       "       'United States, United Kingdom, Germany', 'Taiwan, China',\n",
       "       'Cambodia', 'Spain, Portugal', 'Ireland, United States, France',\n",
       "       'Jordan', 'Austria', 'Germany, United States, Canada',\n",
       "       'United Kingdom, Germany, Canada, United States',\n",
       "       'United States, France, Canada, Lebanon, Qatar',\n",
       "       'Indonesia, Netherlands',\n",
       "       'Netherlands, Belgium, United Kingdom, United States',\n",
       "       'China, United States, Australia',\n",
       "       'France, Belgium, China, United States', 'Spain, United Kingdom',\n",
       "       'United States, Chile, Israel', 'Bangladesh',\n",
       "       'United Kingdom, Norway, Denmark, Germany, Sweden',\n",
       "       'United States, Japan, Canada', 'Norway, Denmark, Sweden',\n",
       "       'China, India, Nepal', 'United States, Argentina',\n",
       "       'Mexico, United States, Spain, Colombia',\n",
       "       'Colombia, Mexico, United States',\n",
       "       'United Kingdom, Belgium, Sweden', 'Nigeria, United Kingdom',\n",
       "       'United Kingdom, South Korea', 'United States, Taiwan',\n",
       "       'Netherlands, Belgium, Germany, Jordan', 'France, Canada',\n",
       "       'United Kingdom, France, United States',\n",
       "       'Denmark, Singapore, Canada, United States', 'Denmark, China',\n",
       "       'Malaysia, Singapore, Hong Kong', 'Norway, United States',\n",
       "       'United States, Philippines', 'United States, Greece, Brazil',\n",
       "       'France, United States', 'South Korea, France',\n",
       "       'United States, Australia, Samoa, United Kingdom',\n",
       "       'Canada, South Africa', 'United Kingdom, Italy',\n",
       "       'Germany, United Kingdom', 'China, United Kingdom',\n",
       "       'Argentina, Chile, Peru', 'United States, Russia',\n",
       "       'Uruguay, Germany', 'Turkey, Azerbaijan',\n",
       "       'United States, China, Hong Kong',\n",
       "       'Canada, Germany, France, United States',\n",
       "       'Argentina, United States, Mexico',\n",
       "       'France, United Kingdom, India', 'China, Taiwan',\n",
       "       'Italy, United Kingdom, France', 'Poland, West Germany',\n",
       "       'Germany, United States, Sweden', 'Canada, Spain',\n",
       "       'United Kingdom, France, Belgium, United States', 'France, Japan',\n",
       "       'Netherlands, Germany, Italy, Canada', 'United States, Cambodia',\n",
       "       'United States, Greece', 'United States, China, Colombia',\n",
       "       'United States, Spain, Italy',\n",
       "       'Norway, United Kingdom, France, Ireland',\n",
       "       'United States, Bermuda, Ecuador', 'United Kingdom, Poland',\n",
       "       'China, Canada, United States', 'United States, Spain',\n",
       "       'India, Mexico', 'United Kingdom, West Germany',\n",
       "       'Pakistan, United States', 'Israel, Sweden, Germany, Netherlands',\n",
       "       'Chile, United States, France', 'France, Morocco',\n",
       "       'United Kingdom, Germany', 'Georgia, Germany, France',\n",
       "       'Switzerland, France', 'Turkey, South Korea', 'Italy, India',\n",
       "       'United States, Botswana', 'United States, Colombia, Mexico',\n",
       "       'Chile, Argentina, France, Spain, United States',\n",
       "       'Puerto Rico, United States, Colombia', 'United States, Nigeria',\n",
       "       'Germany, United States, France',\n",
       "       'Spain, Germany, Denmark, United States',\n",
       "       'United Kingdom, United States, Japan',\n",
       "       'Netherlands, United States',\n",
       "       'United States, India, South Korea, China',\n",
       "       'Denmark, Germany, Belgium, United Kingdom, France',\n",
       "       'Denmark, Germany, Belgium, United Kingdom, France, Sweden',\n",
       "       'France, Switzerland, Spain, United States, United Arab Emirates',\n",
       "       'Norway, Sweden', 'United States, Ireland, United Kingdom, India',\n",
       "       'United Kingdom, Singapore', 'Spain, Germany',\n",
       "       'Germany, Czech Republic',\n",
       "       'Denmark, Brazil, France, Portugal, Sweden',\n",
       "       'Brazil, India, China, United States', 'India, Germany, Austria',\n",
       "       'Italy, United States', 'Denmark, France, United States, Sweden',\n",
       "       'Australia, Iraq', 'China, Morocco, Hong Kong', 'Spain, Colombia',\n",
       "       'Australia, United Arab Emirates',\n",
       "       'Canada, United States, Germany', 'France, Belgium, Italy',\n",
       "       'United Kingdom, Thailand', 'Venezuela, Colombia',\n",
       "       'France, Luxembourg, Canada', 'India, Nepal', 'Mexico, Spain',\n",
       "       'Colombia, United States', 'Colombia, Mexico',\n",
       "       'France, Germany, Czech Republic, Belgium',\n",
       "       'Germany, China, United Kingdom', 'Canada, Hungary, United States',\n",
       "       'Pakistan, United Arab Emirates', 'France, United Kingdom',\n",
       "       'Spain, United Kingdom, United States', 'United Kingdom, Kenya',\n",
       "       'United States, Norway, Canada', 'Canada, United States, Ireland',\n",
       "       'Switzerland, Vatican City, Italy, Germany, France',\n",
       "       'Portugal, France, Poland, United States',\n",
       "       'France, Japan, United States', 'United States, New Zealand',\n",
       "       'United States, New Zealand, Japan',\n",
       "       'United States, Netherlands, Japan, France', 'India, Switzerland',\n",
       "       'Canada, India', 'Canada, Japan, United States',\n",
       "       'United States, Morocco', 'United States, Mexico, Spain, Malta',\n",
       "       'Norway, Denmark', 'South Korea, Canada, United States, China',\n",
       "       'Singapore, Japan, France',\n",
       "       'Canada, Mexico, Germany, South Africa',\n",
       "       'United Kingdom, United States, Canada',\n",
       "       'Germany, France, United States, Canada, United Kingdom',\n",
       "       'Peru, Germany, Norway', 'Singapore, Malaysia',\n",
       "       'United States, Uruguay', 'India, Canada',\n",
       "       'Ireland, Canada, United Kingdom, United States',\n",
       "       'United States, Germany, Australia', 'Senegal',\n",
       "       'Israel, Germany, France', 'Australia, France, Ireland',\n",
       "       'South Africa, Angola', 'Austria, Czech Republic',\n",
       "       'Australia, India', 'United States, United Kingdom, Canada, Japan',\n",
       "       'Sweden, United Kingdom, Finland', 'Hong Kong, Taiwan',\n",
       "       'United States, United Kingdom, Spain, South Korea',\n",
       "       'South Korea, China, United States', 'Guatemala', 'Ukraine',\n",
       "       'United States, United Kingdom, Canada, China',\n",
       "       'Italy, South Africa, West Germany, Australia, United States',\n",
       "       'United Kingdom, Finland, Germany',\n",
       "       'South Africa, United States, Germany',\n",
       "       'United States, Germany, United Kingdom, Australia',\n",
       "       'India, Soviet Union', 'Italy, France, Switzerland',\n",
       "       'Canada, France, United States', 'United States, Colombia',\n",
       "       'India, Malaysia', 'Switzerland, United States',\n",
       "       'Thailand, Canada, United States',\n",
       "       'China, Hong Kong, United States', 'United Kingdom, New Zealand',\n",
       "       'United Kingdom, France, Germany, United States',\n",
       "       'South Korea, Czech Republic',\n",
       "       'Czech Republic, United Kingdom, France',\n",
       "       'Australia, United Kingdom, Canada',\n",
       "       'Canada, United Kingdom, United States', 'United States, Hungary',\n",
       "       'Jamaica, United States', 'Switzerland',\n",
       "       'Australia, United Kingdom, United States, New Zealand, Italy, France',\n",
       "       'France, United States, Canada', 'Australia, United Kingdom',\n",
       "       'United States, Denmark',\n",
       "       'United Kingdom, France, Canada, Belgium, United States',\n",
       "       'Denmark, United Kingdom, Sweden', 'Belarus', 'Cyprus',\n",
       "       'Lebanon, United States, United Arab Emirates',\n",
       "       'United States, Hong Kong', 'United States, Kazakhstan',\n",
       "       'Argentina, France, United States, Germany, Qatar',\n",
       "       'United States, Germany, United Kingdom',\n",
       "       'United States, Germany, United Kingdom, Italy',\n",
       "       'United States, New Zealand, United Kingdom',\n",
       "       'Finland, United States', 'Spain, France, Uruguay',\n",
       "       'France, Belgium, United States', 'France, Canada, United States',\n",
       "       'Spain, Argentina', 'United Kingdom, India, United States',\n",
       "       'Chile, France',\n",
       "       'United States, United Kingdom, France, Germany, Japan',\n",
       "       'Canada, Norway', 'United States, Hungary, Ireland, Canada',\n",
       "       'United States, Canada, China', 'United Kingdom, Malawi',\n",
       "       'Ireland, Canada, Luxembourg, United States, United Kingdom, Philippines, India',\n",
       "       'United States, Czech Republic, United Kingdom',\n",
       "       'Ghana, United States', 'Israel, Germany', 'Spain, Mexico',\n",
       "       'Mexico, France', 'Brazil, United Kingdom',\n",
       "       'France, Belgium, Luxembourg, Romania, Canada, United States',\n",
       "       'Israel, Germany, Poland, Luxembourg, Belgium, France, United States',\n",
       "       'France, Germany', 'United States, Malta, France, United Kingdom',\n",
       "       'United Kingdom, United States, Germany, Denmark, Belgium, Japan',\n",
       "       'Austria, United States', 'Canada, Australia',\n",
       "       'Greece, United States',\n",
       "       'United Kingdom, France, Belgium, Canada, United States',\n",
       "       'Argentina, Chile', 'Czech Republic, Slovakia',\n",
       "       'United Kingdom, Germany, United States, France',\n",
       "       'United Kingdom, Lithuania', 'Egypt, France',\n",
       "       'Spain, France, Canada', 'United States, Greece, United Kingdom',\n",
       "       'United Kingdom, China, United States, India', 'Taiwan, Malaysia',\n",
       "       'United States, Sweden, Norway',\n",
       "       'United Kingdom, United States, Morocco',\n",
       "       'United States, United Kingdom, Morocco',\n",
       "       'United States, China, Canada', 'Spain, Canada, United States',\n",
       "       'Canada, Belgium', 'United States, India, United Arab Emirates',\n",
       "       'United Kingdom, Canada, France, United States',\n",
       "       'Spain, Thailand, United States', 'Canada, Germany, South Africa',\n",
       "       'India, Germany, France',\n",
       "       'United States, Israel, United Kingdom, Canada',\n",
       "       'United Kingdom, Hungary, Australia', 'Lebanon, France',\n",
       "       'Belgium, Ireland, Netherlands, Germany, Afghanistan',\n",
       "       'Chile, Peru', 'Paraguay, Argentina',\n",
       "       'United Kingdom, Italy, Israel, Peru, United States',\n",
       "       'Norway, Germany', 'France, Canada, Italy, United States, China',\n",
       "       'Netherlands, Germany, Denmark, United Kingdom', 'France, Lebanon',\n",
       "       'Ireland, United Kingdom, Greece, France, Netherlands',\n",
       "       'Denmark, Indonesia, Finland, Norway, United Kingdom, Israel, France, United States, Germany, Netherlands',\n",
       "       'New Zealand, United States', 'Argentina, Uruguay, Spain, France',\n",
       "       'United Kingdom, Germany, United States',\n",
       "       'United States, Australia, South Africa, United Kingdom',\n",
       "       'Italy, Belgium', 'United States, Germany, Mexico',\n",
       "       'Chile, Spain, Argentina, Germany', 'Germany, Italy',\n",
       "       'United Kingdom, Nigeria',\n",
       "       'Belgium, United Kingdom, United States', 'Australia, New Zealand',\n",
       "       'Spain, Switzerland', 'Indonesia, United States',\n",
       "       'Canada, South Korea, United States',\n",
       "       'France, Iran, United States', 'Croatia',\n",
       "       'Somalia, Kenya, Sudan, South Africa, United States',\n",
       "       'Ireland, France, Iceland, United States, Mexico, Belgium, United Kingdom, Hong Kong',\n",
       "       'Spain, United States', 'United States, Canada, Japan, Panama',\n",
       "       'United Kingdom, Spain, Belgium', 'Serbia, South Korea, Slovenia',\n",
       "       'Denmark, United Kingdom, South Africa, Sweden, Belgium',\n",
       "       'Germany, Canada, United States', 'Ireland, South Africa',\n",
       "       'Canada, Germany', 'Spain, France, Canada, United States',\n",
       "       'India, United Kingdom, Canada, United States',\n",
       "       'United States, Belgium, Canada',\n",
       "       'United States, France, Canada, Belgium',\n",
       "       'United Kingdom, Egypt, United States',\n",
       "       'United Kingdom, Germany, United Arab Emirates, New Zealand',\n",
       "       'United Kingdom, France, United States, Belgium, Luxembourg, China, Germany',\n",
       "       'United Kingdom, Spain, United States, Germany',\n",
       "       'United States, France, Italy, United Kingdom', 'Georgia',\n",
       "       'United States, United Kingdom, India',\n",
       "       'Ireland, Canada, United States, United Kingdom',\n",
       "       'New Zealand, United Kingdom, Australia', 'United States, Poland',\n",
       "       'United Arab Emirates, Romania',\n",
       "       'United Kingdom, Australia, Canada, United States',\n",
       "       'Mexico, Netherlands', 'Spain, Italy, Argentina',\n",
       "       'Germany, United States, Italy', 'United States, Venezuela',\n",
       "       'United Kingdom, Canada, Japan', 'Canada, Japan, Netherlands',\n",
       "       'United Kingdom, United States, Czech Republic',\n",
       "       'United Kingdom, China, United States',\n",
       "       'United Kingdom, Brazil, Germany',\n",
       "       'Thailand, China, United States',\n",
       "       'United Kingdom, Namibia, South Africa, Zimbabwe, United States',\n",
       "       'United Kingdom, South Africa, Australia, United States',\n",
       "       'Canada, United States, India, United Kingdom',\n",
       "       'United States, Brazil, South Korea, Mexico, Japan, Germany',\n",
       "       'France, Lebanon, United Kingdom',\n",
       "       'United Kingdom, Jordan, Qatar, Iran',\n",
       "       'Switzerland, United Kingdom, United States',\n",
       "       'Belgium, Netherlands',\n",
       "       'United Kingdom, Germany, France, United States',\n",
       "       'Romania, United Kingdom', 'Lebanon, Qatar',\n",
       "       'United Kingdom, India, Sweden', 'United Kingdom, Belgium',\n",
       "       'India, Pakistan', 'United Kingdom,',\n",
       "       'Saudi Arabia, Netherlands, Germany, Jordan, United Arab Emirates, United States',\n",
       "       'France, Brazil, Spain, Belgium',\n",
       "       'United States, Brazil, India, Uganda, China',\n",
       "       'United Kingdom, Ireland, United States',\n",
       "       'Lebanon, Canada, France', 'India, Australia',\n",
       "       'Austria, Iraq, United States', 'France, Norway, Lebanon, Belgium',\n",
       "       'United Kingdom, France, United States, Belgium',\n",
       "       'Saudi Arabia, United Arab Emirates',\n",
       "       'Peru, United States, United Kingdom',\n",
       "       'Germany, United States, United Kingdom, Canada',\n",
       "       'Uruguay, Argentina, Germany, Spain',\n",
       "       'France, Luxembourg, United States', 'United Kingdom, Spain',\n",
       "       'Canada, India, Thailand, United States, United Arab Emirates',\n",
       "       'Romania, Bulgaria, Hungary',\n",
       "       'United States, East Germany, West Germany',\n",
       "       'France, Netherlands, South Africa, Finland',\n",
       "       'United Kingdom, Ukraine, United States',\n",
       "       'Egypt, Austria, United States', 'Russia, Spain',\n",
       "       'Croatia, Slovenia, Serbia, Montenegro', 'Japan, Canada',\n",
       "       'United States, France, South Korea, Indonesia',\n",
       "       'United Arab Emirates, Jordan',\n",
       "       'Sweden, Czech Republic, United Kingdom, Denmark, Netherlands'],\n",
       "      dtype=object)"
      ]
     },
     "execution_count": 11,
     "metadata": {},
     "output_type": "execute_result"
    }
   ],
   "source": [
    "df['Country'].unique()"
   ]
  },
  {
   "cell_type": "code",
   "execution_count": 12,
   "id": "02159e10",
   "metadata": {},
   "outputs": [
    {
     "data": {
      "text/html": [
       "<div>\n",
       "<style scoped>\n",
       "    .dataframe tbody tr th:only-of-type {\n",
       "        vertical-align: middle;\n",
       "    }\n",
       "\n",
       "    .dataframe tbody tr th {\n",
       "        vertical-align: top;\n",
       "    }\n",
       "\n",
       "    .dataframe thead th {\n",
       "        text-align: right;\n",
       "    }\n",
       "</style>\n",
       "<table border=\"1\" class=\"dataframe\">\n",
       "  <thead>\n",
       "    <tr style=\"text-align: right;\">\n",
       "      <th></th>\n",
       "      <th>Country</th>\n",
       "    </tr>\n",
       "  </thead>\n",
       "  <tbody>\n",
       "    <tr>\n",
       "      <th>0</th>\n",
       "      <td>Brazil</td>\n",
       "    </tr>\n",
       "    <tr>\n",
       "      <th>1</th>\n",
       "      <td>Mexico</td>\n",
       "    </tr>\n",
       "    <tr>\n",
       "      <th>2</th>\n",
       "      <td>Singapore</td>\n",
       "    </tr>\n",
       "    <tr>\n",
       "      <th>3</th>\n",
       "      <td>United States</td>\n",
       "    </tr>\n",
       "    <tr>\n",
       "      <th>4</th>\n",
       "      <td>United States</td>\n",
       "    </tr>\n",
       "    <tr>\n",
       "      <th>...</th>\n",
       "      <td>...</td>\n",
       "    </tr>\n",
       "    <tr>\n",
       "      <th>7784</th>\n",
       "      <td>Sweden, Czech Republic, United Kingdom, Denmar...</td>\n",
       "    </tr>\n",
       "    <tr>\n",
       "      <th>7785</th>\n",
       "      <td>India</td>\n",
       "    </tr>\n",
       "    <tr>\n",
       "      <th>7786</th>\n",
       "      <td>NaN</td>\n",
       "    </tr>\n",
       "    <tr>\n",
       "      <th>7787</th>\n",
       "      <td>Australia</td>\n",
       "    </tr>\n",
       "    <tr>\n",
       "      <th>7788</th>\n",
       "      <td>United Kingdom, Canada, United States</td>\n",
       "    </tr>\n",
       "  </tbody>\n",
       "</table>\n",
       "<p>7789 rows × 1 columns</p>\n",
       "</div>"
      ],
      "text/plain": [
       "                                                Country\n",
       "0                                                Brazil\n",
       "1                                                Mexico\n",
       "2                                             Singapore\n",
       "3                                         United States\n",
       "4                                         United States\n",
       "...                                                 ...\n",
       "7784  Sweden, Czech Republic, United Kingdom, Denmar...\n",
       "7785                                              India\n",
       "7786                                                NaN\n",
       "7787                                          Australia\n",
       "7788              United Kingdom, Canada, United States\n",
       "\n",
       "[7789 rows x 1 columns]"
      ]
     },
     "execution_count": 12,
     "metadata": {},
     "output_type": "execute_result"
    }
   ],
   "source": [
    "df_array=pd.DataFrame(df, columns=['Country'])\n",
    "df_array"
   ]
  },
  {
   "cell_type": "code",
   "execution_count": 13,
   "id": "1a15c877",
   "metadata": {},
   "outputs": [
    {
     "data": {
      "text/html": [
       "<div>\n",
       "<style scoped>\n",
       "    .dataframe tbody tr th:only-of-type {\n",
       "        vertical-align: middle;\n",
       "    }\n",
       "\n",
       "    .dataframe tbody tr th {\n",
       "        vertical-align: top;\n",
       "    }\n",
       "\n",
       "    .dataframe thead th {\n",
       "        text-align: right;\n",
       "    }\n",
       "</style>\n",
       "<table border=\"1\" class=\"dataframe\">\n",
       "  <thead>\n",
       "    <tr style=\"text-align: right;\">\n",
       "      <th></th>\n",
       "      <th>Country</th>\n",
       "    </tr>\n",
       "  </thead>\n",
       "  <tbody>\n",
       "    <tr>\n",
       "      <th>0</th>\n",
       "      <td>Brazil</td>\n",
       "    </tr>\n",
       "    <tr>\n",
       "      <th>2</th>\n",
       "      <td>Singapore</td>\n",
       "    </tr>\n",
       "    <tr>\n",
       "      <th>4</th>\n",
       "      <td>United States</td>\n",
       "    </tr>\n",
       "    <tr>\n",
       "      <th>6</th>\n",
       "      <td>Egypt</td>\n",
       "    </tr>\n",
       "    <tr>\n",
       "      <th>8</th>\n",
       "      <td>India</td>\n",
       "    </tr>\n",
       "  </tbody>\n",
       "</table>\n",
       "</div>"
      ],
      "text/plain": [
       "         Country\n",
       "0         Brazil\n",
       "2      Singapore\n",
       "4  United States\n",
       "6          Egypt\n",
       "8          India"
      ]
     },
     "execution_count": 13,
     "metadata": {},
     "output_type": "execute_result"
    }
   ],
   "source": [
    "df_array[0:10:2]"
   ]
  },
  {
   "cell_type": "markdown",
   "id": "e91cc709",
   "metadata": {},
   "source": [
    "# .nunique()"
   ]
  },
  {
   "cell_type": "markdown",
   "id": "c5cb0ab6",
   "metadata": {},
   "source": [
    "* Q. show the total no of unque value from whole data frame"
   ]
  },
  {
   "cell_type": "code",
   "execution_count": 14,
   "id": "531d5eb0",
   "metadata": {},
   "outputs": [
    {
     "data": {
      "text/plain": [
       "Show_Id         7787\n",
       "Category           2\n",
       "Title           7787\n",
       "Director        4050\n",
       "Cast            6831\n",
       "Country          681\n",
       "Release_Date    1565\n",
       "Rating            14\n",
       "Duration         216\n",
       "Type             492\n",
       "Description     7769\n",
       "dtype: int64"
      ]
     },
     "execution_count": 14,
     "metadata": {},
     "output_type": "execute_result"
    }
   ],
   "source": [
    "df.nunique()"
   ]
  },
  {
   "cell_type": "markdown",
   "id": "857aaf2c",
   "metadata": {},
   "source": [
    "# .describe()"
   ]
  },
  {
   "cell_type": "markdown",
   "id": "09609b99",
   "metadata": {},
   "source": [
    "It show the Count, mean , median etc\n",
    "- Q. Do you need to use describe for this data set analysis?"
   ]
  },
  {
   "cell_type": "code",
   "execution_count": 15,
   "id": "f25e8c38",
   "metadata": {},
   "outputs": [
    {
     "data": {
      "text/html": [
       "<div>\n",
       "<style scoped>\n",
       "    .dataframe tbody tr th:only-of-type {\n",
       "        vertical-align: middle;\n",
       "    }\n",
       "\n",
       "    .dataframe tbody tr th {\n",
       "        vertical-align: top;\n",
       "    }\n",
       "\n",
       "    .dataframe thead th {\n",
       "        text-align: right;\n",
       "    }\n",
       "</style>\n",
       "<table border=\"1\" class=\"dataframe\">\n",
       "  <thead>\n",
       "    <tr style=\"text-align: right;\">\n",
       "      <th></th>\n",
       "      <th>Show_Id</th>\n",
       "      <th>Category</th>\n",
       "      <th>Title</th>\n",
       "      <th>Director</th>\n",
       "      <th>Cast</th>\n",
       "      <th>Country</th>\n",
       "      <th>Release_Date</th>\n",
       "      <th>Rating</th>\n",
       "      <th>Duration</th>\n",
       "      <th>Type</th>\n",
       "      <th>Description</th>\n",
       "    </tr>\n",
       "  </thead>\n",
       "  <tbody>\n",
       "    <tr>\n",
       "      <th>count</th>\n",
       "      <td>7789</td>\n",
       "      <td>7789</td>\n",
       "      <td>7789</td>\n",
       "      <td>5401</td>\n",
       "      <td>7071</td>\n",
       "      <td>7282</td>\n",
       "      <td>7779</td>\n",
       "      <td>7782</td>\n",
       "      <td>7789</td>\n",
       "      <td>7789</td>\n",
       "      <td>7789</td>\n",
       "    </tr>\n",
       "    <tr>\n",
       "      <th>unique</th>\n",
       "      <td>7787</td>\n",
       "      <td>2</td>\n",
       "      <td>7787</td>\n",
       "      <td>4050</td>\n",
       "      <td>6831</td>\n",
       "      <td>681</td>\n",
       "      <td>1565</td>\n",
       "      <td>14</td>\n",
       "      <td>216</td>\n",
       "      <td>492</td>\n",
       "      <td>7769</td>\n",
       "    </tr>\n",
       "    <tr>\n",
       "      <th>top</th>\n",
       "      <td>s6621</td>\n",
       "      <td>Movie</td>\n",
       "      <td>The Lost Okoroshi</td>\n",
       "      <td>Raúl Campos, Jan Suter</td>\n",
       "      <td>David Attenborough</td>\n",
       "      <td>United States</td>\n",
       "      <td>January 1, 2020</td>\n",
       "      <td>TV-MA</td>\n",
       "      <td>1 Season</td>\n",
       "      <td>Documentaries</td>\n",
       "      <td>Multiple women report their husbands as missin...</td>\n",
       "    </tr>\n",
       "    <tr>\n",
       "      <th>freq</th>\n",
       "      <td>2</td>\n",
       "      <td>5379</td>\n",
       "      <td>2</td>\n",
       "      <td>18</td>\n",
       "      <td>18</td>\n",
       "      <td>2556</td>\n",
       "      <td>118</td>\n",
       "      <td>2865</td>\n",
       "      <td>1608</td>\n",
       "      <td>334</td>\n",
       "      <td>3</td>\n",
       "    </tr>\n",
       "  </tbody>\n",
       "</table>\n",
       "</div>"
      ],
      "text/plain": [
       "       Show_Id Category              Title                Director  \\\n",
       "count     7789     7789               7789                    5401   \n",
       "unique    7787        2               7787                    4050   \n",
       "top      s6621    Movie  The Lost Okoroshi  Raúl Campos, Jan Suter   \n",
       "freq         2     5379                  2                      18   \n",
       "\n",
       "                      Cast        Country     Release_Date Rating  Duration  \\\n",
       "count                 7071           7282             7779   7782      7789   \n",
       "unique                6831            681             1565     14       216   \n",
       "top     David Attenborough  United States  January 1, 2020  TV-MA  1 Season   \n",
       "freq                    18           2556              118   2865      1608   \n",
       "\n",
       "                 Type                                        Description  \n",
       "count            7789                                               7789  \n",
       "unique            492                                               7769  \n",
       "top     Documentaries  Multiple women report their husbands as missin...  \n",
       "freq              334                                                  3  "
      ]
     },
     "execution_count": 15,
     "metadata": {},
     "output_type": "execute_result"
    }
   ],
   "source": [
    "df.describe()"
   ]
  },
  {
   "cell_type": "markdown",
   "id": "6f6a7eb4",
   "metadata": {},
   "source": [
    "# .value_counts"
   ]
  },
  {
   "cell_type": "markdown",
   "id": "a0e05cbd",
   "metadata": {},
   "source": [
    "It Shows all the unique values with their count\n",
    "- Q. show top 10 countries and the values\n",
    "- Q. show top 5 Types of movies are"
   ]
  },
  {
   "cell_type": "code",
   "execution_count": 16,
   "id": "8fdcafd6",
   "metadata": {},
   "outputs": [
    {
     "data": {
      "text/plain": [
       "Country\n",
       "United States     2556\n",
       "India              923\n",
       "United Kingdom     397\n",
       "Japan              226\n",
       "South Korea        183\n",
       "Canada             177\n",
       "Spain              134\n",
       "France             115\n",
       "Egypt              101\n",
       "Turkey             100\n",
       "Name: count, dtype: int64"
      ]
     },
     "execution_count": 16,
     "metadata": {},
     "output_type": "execute_result"
    }
   ],
   "source": [
    "df['Country'].value_counts().head(10)"
   ]
  },
  {
   "cell_type": "code",
   "execution_count": 17,
   "id": "0ce03a6a",
   "metadata": {},
   "outputs": [
    {
     "data": {
      "text/plain": [
       "Type\n",
       "Documentaries                                       334\n",
       "Stand-Up Comedy                                     321\n",
       "Dramas, International Movies                        320\n",
       "Comedies, Dramas, International Movies              243\n",
       "Dramas, Independent Movies, International Movies    215\n",
       "Name: count, dtype: int64"
      ]
     },
     "execution_count": 17,
     "metadata": {},
     "output_type": "execute_result"
    }
   ],
   "source": [
    "df['Type'].value_counts().head()"
   ]
  },
  {
   "cell_type": "markdown",
   "id": "9b9ab6f2",
   "metadata": {},
   "source": [
    "# .isnull()"
   ]
  },
  {
   "cell_type": "markdown",
   "id": "b44be19d",
   "metadata": {},
   "source": [
    "It shows the how many null/ missing values"
   ]
  },
  {
   "cell_type": "code",
   "execution_count": 18,
   "id": "ab0e2a6d",
   "metadata": {},
   "outputs": [
    {
     "data": {
      "text/plain": [
       "Show_Id            0\n",
       "Category           0\n",
       "Title              0\n",
       "Director        2388\n",
       "Cast             718\n",
       "Country          507\n",
       "Release_Date      10\n",
       "Rating             7\n",
       "Duration           0\n",
       "Type               0\n",
       "Description        0\n",
       "dtype: int64"
      ]
     },
     "execution_count": 18,
     "metadata": {},
     "output_type": "execute_result"
    }
   ],
   "source": [
    "df.isnull().sum()"
   ]
  },
  {
   "cell_type": "markdown",
   "id": "fe27aa7a",
   "metadata": {},
   "source": [
    "# Impute the missing values with `unknown`\n",
    "- Cast\n",
    "- Country"
   ]
  },
  {
   "cell_type": "code",
   "execution_count": 19,
   "id": "4d51f36f",
   "metadata": {},
   "outputs": [],
   "source": [
    "df['Cast'].fillna('unknown', inplace=True)"
   ]
  },
  {
   "cell_type": "code",
   "execution_count": 20,
   "id": "539013c5",
   "metadata": {},
   "outputs": [
    {
     "data": {
      "text/plain": [
       "0"
      ]
     },
     "execution_count": 20,
     "metadata": {},
     "output_type": "execute_result"
    }
   ],
   "source": [
    "df['Cast'].isnull().sum()"
   ]
  },
  {
   "cell_type": "code",
   "execution_count": 21,
   "id": "a03c1024",
   "metadata": {},
   "outputs": [],
   "source": [
    "df['Country'].fillna('unknown', inplace=True)"
   ]
  },
  {
   "cell_type": "code",
   "execution_count": 22,
   "id": "2fb8bf2f",
   "metadata": {},
   "outputs": [
    {
     "data": {
      "text/plain": [
       "0"
      ]
     },
     "execution_count": 22,
     "metadata": {},
     "output_type": "execute_result"
    }
   ],
   "source": [
    "df['Country'].isnull().sum()"
   ]
  },
  {
   "cell_type": "code",
   "execution_count": 23,
   "id": "8d031241",
   "metadata": {},
   "outputs": [
    {
     "data": {
      "text/plain": [
       "Show_Id            0\n",
       "Category           0\n",
       "Title              0\n",
       "Director        2388\n",
       "Cast               0\n",
       "Country            0\n",
       "Release_Date      10\n",
       "Rating             7\n",
       "Duration           0\n",
       "Type               0\n",
       "Description        0\n",
       "dtype: int64"
      ]
     },
     "execution_count": 23,
     "metadata": {},
     "output_type": "execute_result"
    }
   ],
   "source": [
    "df.isnull().sum()"
   ]
  },
  {
   "cell_type": "markdown",
   "id": "b995de38",
   "metadata": {},
   "source": [
    "# For a movie itle \"Zozo\" ; What is the Show Id and Who is the the Director of this Show ?\n",
    "- loc or query"
   ]
  },
  {
   "cell_type": "code",
   "execution_count": 24,
   "id": "6baec02b",
   "metadata": {},
   "outputs": [
    {
     "data": {
      "text/html": [
       "<div>\n",
       "<style scoped>\n",
       "    .dataframe tbody tr th:only-of-type {\n",
       "        vertical-align: middle;\n",
       "    }\n",
       "\n",
       "    .dataframe tbody tr th {\n",
       "        vertical-align: top;\n",
       "    }\n",
       "\n",
       "    .dataframe thead th {\n",
       "        text-align: right;\n",
       "    }\n",
       "</style>\n",
       "<table border=\"1\" class=\"dataframe\">\n",
       "  <thead>\n",
       "    <tr style=\"text-align: right;\">\n",
       "      <th></th>\n",
       "      <th>Show_Id</th>\n",
       "      <th>Category</th>\n",
       "      <th>Title</th>\n",
       "      <th>Director</th>\n",
       "      <th>Cast</th>\n",
       "      <th>Country</th>\n",
       "      <th>Release_Date</th>\n",
       "      <th>Rating</th>\n",
       "      <th>Duration</th>\n",
       "      <th>Type</th>\n",
       "      <th>Description</th>\n",
       "    </tr>\n",
       "  </thead>\n",
       "  <tbody>\n",
       "    <tr>\n",
       "      <th>7784</th>\n",
       "      <td>s7783</td>\n",
       "      <td>Movie</td>\n",
       "      <td>Zozo</td>\n",
       "      <td>Josef Fares</td>\n",
       "      <td>Imad Creidi, Antoinette Turk, Elias Gergi, Car...</td>\n",
       "      <td>Sweden, Czech Republic, United Kingdom, Denmar...</td>\n",
       "      <td>October 19, 2020</td>\n",
       "      <td>TV-MA</td>\n",
       "      <td>99 min</td>\n",
       "      <td>Dramas, International Movies</td>\n",
       "      <td>When Lebanon's Civil War deprives Zozo of his ...</td>\n",
       "    </tr>\n",
       "  </tbody>\n",
       "</table>\n",
       "</div>"
      ],
      "text/plain": [
       "     Show_Id Category Title     Director  \\\n",
       "7784   s7783    Movie  Zozo  Josef Fares   \n",
       "\n",
       "                                                   Cast  \\\n",
       "7784  Imad Creidi, Antoinette Turk, Elias Gergi, Car...   \n",
       "\n",
       "                                                Country      Release_Date  \\\n",
       "7784  Sweden, Czech Republic, United Kingdom, Denmar...  October 19, 2020   \n",
       "\n",
       "     Rating Duration                          Type  \\\n",
       "7784  TV-MA   99 min  Dramas, International Movies   \n",
       "\n",
       "                                            Description  \n",
       "7784  When Lebanon's Civil War deprives Zozo of his ...  "
      ]
     },
     "execution_count": 24,
     "metadata": {},
     "output_type": "execute_result"
    }
   ],
   "source": [
    "df.query(\"Title=='Zozo'\")"
   ]
  },
  {
   "cell_type": "markdown",
   "id": "f68cf1ac",
   "metadata": {},
   "source": [
    "The Show Id is s7783 and the director is Josef Fares."
   ]
  },
  {
   "cell_type": "markdown",
   "id": "8d39a9d5",
   "metadata": {},
   "source": [
    "#    In which year Heighest Number of Tv Shows and Movies were released ?"
   ]
  },
  {
   "cell_type": "markdown",
   "id": "3db6e58c",
   "metadata": {},
   "source": [
    "- First Convert the data type of Column Release_Date and pick year only ? Using to_datetime and dt.year\n",
    "- use value_counts and bar graph to get the highest number"
   ]
  },
  {
   "cell_type": "code",
   "execution_count": 25,
   "id": "1f497ab6",
   "metadata": {},
   "outputs": [],
   "source": [
    "df['Release_Date'] = pd.to_datetime(df['Release_Date'], errors='coerce')\n",
    "df = df.dropna(subset=['Release_Date'])"
   ]
  },
  {
   "cell_type": "code",
   "execution_count": 26,
   "id": "a6f4ff5d",
   "metadata": {},
   "outputs": [
    {
     "name": "stdout",
     "output_type": "stream",
     "text": [
      "<class 'pandas.core.frame.DataFrame'>\n",
      "Index: 7691 entries, 0 to 7788\n",
      "Data columns (total 11 columns):\n",
      " #   Column        Non-Null Count  Dtype         \n",
      "---  ------        --------------  -----         \n",
      " 0   Show_Id       7691 non-null   object        \n",
      " 1   Category      7691 non-null   object        \n",
      " 2   Title         7691 non-null   object        \n",
      " 3   Director      5396 non-null   object        \n",
      " 4   Cast          7691 non-null   object        \n",
      " 5   Country       7691 non-null   object        \n",
      " 6   Release_Date  7691 non-null   datetime64[ns]\n",
      " 7   Rating        7684 non-null   object        \n",
      " 8   Duration      7691 non-null   object        \n",
      " 9   Type          7691 non-null   object        \n",
      " 10  Description   7691 non-null   object        \n",
      "dtypes: datetime64[ns](1), object(10)\n",
      "memory usage: 721.0+ KB\n"
     ]
    }
   ],
   "source": [
    "df.info()"
   ]
  },
  {
   "cell_type": "code",
   "execution_count": 27,
   "id": "e8780c87",
   "metadata": {},
   "outputs": [],
   "source": [
    "df['year']=df['Release_Date'].dt.year"
   ]
  },
  {
   "cell_type": "code",
   "execution_count": 28,
   "id": "62d41f07",
   "metadata": {},
   "outputs": [
    {
     "data": {
      "text/plain": [
       "year\n",
       "2019    2137\n",
       "2020    2009\n",
       "2018    1661\n",
       "2017    1201\n",
       "2016     432\n",
       "2021     117\n",
       "2015      79\n",
       "2014      24\n",
       "2011      13\n",
       "2013      10\n",
       "2012       3\n",
       "2008       2\n",
       "2009       2\n",
       "2010       1\n",
       "Name: count, dtype: int64"
      ]
     },
     "execution_count": 28,
     "metadata": {},
     "output_type": "execute_result"
    }
   ],
   "source": [
    "df['year'].value_counts()"
   ]
  },
  {
   "cell_type": "code",
   "execution_count": 29,
   "id": "9e53cd3b",
   "metadata": {},
   "outputs": [
    {
     "data": {
      "text/plain": [
       "<Axes: xlabel='year'>"
      ]
     },
     "execution_count": 29,
     "metadata": {},
     "output_type": "execute_result"
    },
    {
     "data": {
      "image/png": "[encoded data removed]",
      "text/plain": [
       "<Figure size 640x480 with 1 Axes>"
      ]
     },
     "metadata": {},
     "output_type": "display_data"
    }
   ],
   "source": [
    "df['year'].value_counts().plot(kind='bar')"
   ]
  },
  {
   "cell_type": "markdown",
   "id": "d768a501",
   "metadata": {},
   "source": [
    "In 2019, the highest number of movies were released as there were a total of 2,137 movies released."
   ]
  },
  {
   "cell_type": "markdown",
   "id": "58043db6",
   "metadata": {},
   "source": [
    "# How many Movies & Tv shows are in the dataset ? Show With bar graph"
   ]
  },
  {
   "cell_type": "code",
   "execution_count": 30,
   "id": "8e42d2e9",
   "metadata": {},
   "outputs": [
    {
     "data": {
      "text/plain": [
       "Index(['Show_Id', 'Category', 'Title', 'Director', 'Cast', 'Country',\n",
       "       'Release_Date', 'Rating', 'Duration', 'Type', 'Description', 'year'],\n",
       "      dtype='object')"
      ]
     },
     "execution_count": 30,
     "metadata": {},
     "output_type": "execute_result"
    }
   ],
   "source": [
    "df.columns"
   ]
  },
  {
   "cell_type": "code",
   "execution_count": 31,
   "id": "67abff16",
   "metadata": {},
   "outputs": [
    {
     "data": {
      "text/plain": [
       "<Axes: ylabel='Category'>"
      ]
     },
     "execution_count": 31,
     "metadata": {},
     "output_type": "execute_result"
    },
    {
     "data": {
      "image/png": "[encoded data removed]",
      "text/plain": [
       "<Figure size 640x480 with 1 Axes>"
      ]
     },
     "metadata": {},
     "output_type": "display_data"
    }
   ],
   "source": [
    "df['Category'].value_counts().plot(kind='barh')"
   ]
  },
  {
   "cell_type": "markdown",
   "id": "e2ea9cca",
   "metadata": {},
   "source": [
    "# Show all the Movies that were Released in 2010 ?"
   ]
  },
  {
   "cell_type": "code",
   "execution_count": 32,
   "id": "2368b53b",
   "metadata": {},
   "outputs": [
    {
     "data": {
      "text/html": [
       "<div>\n",
       "<style scoped>\n",
       "    .dataframe tbody tr th:only-of-type {\n",
       "        vertical-align: middle;\n",
       "    }\n",
       "\n",
       "    .dataframe tbody tr th {\n",
       "        vertical-align: top;\n",
       "    }\n",
       "\n",
       "    .dataframe thead th {\n",
       "        text-align: right;\n",
       "    }\n",
       "</style>\n",
       "<table border=\"1\" class=\"dataframe\">\n",
       "  <thead>\n",
       "    <tr style=\"text-align: right;\">\n",
       "      <th></th>\n",
       "      <th>Show_Id</th>\n",
       "      <th>Category</th>\n",
       "      <th>Title</th>\n",
       "      <th>Director</th>\n",
       "      <th>Cast</th>\n",
       "      <th>Country</th>\n",
       "      <th>Release_Date</th>\n",
       "      <th>Rating</th>\n",
       "      <th>Duration</th>\n",
       "      <th>Type</th>\n",
       "      <th>Description</th>\n",
       "      <th>year</th>\n",
       "    </tr>\n",
       "  </thead>\n",
       "  <tbody>\n",
       "    <tr>\n",
       "      <th>3840</th>\n",
       "      <td>s3841</td>\n",
       "      <td>Movie</td>\n",
       "      <td>Mad Ron's Prevues from Hell</td>\n",
       "      <td>Jim Monaco</td>\n",
       "      <td>Nick Pawlow, Jordu Schell, Jay Kushwara, Micha...</td>\n",
       "      <td>United States</td>\n",
       "      <td>2010-11-01</td>\n",
       "      <td>NR</td>\n",
       "      <td>84 min</td>\n",
       "      <td>Cult Movies, Horror Movies</td>\n",
       "      <td>This collection cherry-picks trailers, forgott...</td>\n",
       "      <td>2010</td>\n",
       "    </tr>\n",
       "  </tbody>\n",
       "</table>\n",
       "</div>"
      ],
      "text/plain": [
       "     Show_Id Category                        Title    Director  \\\n",
       "3840   s3841    Movie  Mad Ron's Prevues from Hell  Jim Monaco   \n",
       "\n",
       "                                                   Cast        Country  \\\n",
       "3840  Nick Pawlow, Jordu Schell, Jay Kushwara, Micha...  United States   \n",
       "\n",
       "     Release_Date Rating Duration                        Type  \\\n",
       "3840   2010-11-01     NR   84 min  Cult Movies, Horror Movies   \n",
       "\n",
       "                                            Description  year  \n",
       "3840  This collection cherry-picks trailers, forgott...  2010  "
      ]
     },
     "execution_count": 32,
     "metadata": {},
     "output_type": "execute_result"
    }
   ],
   "source": [
    "df.loc[df.year==2010]"
   ]
  },
  {
   "cell_type": "markdown",
   "id": "5248a849",
   "metadata": {},
   "source": [
    "There was one movie released in 2010."
   ]
  },
  {
   "cell_type": "markdown",
   "id": "7fbc4ec6",
   "metadata": {},
   "source": [
    "# Show Top 10 Directors, Who gave the Highest Number of Tv Shows & Movies to Netflix ?"
   ]
  },
  {
   "cell_type": "code",
   "execution_count": 33,
   "id": "0f797a3c",
   "metadata": {},
   "outputs": [
    {
     "data": {
      "text/plain": [
       "Director\n",
       "Raúl Campos, Jan Suter    18\n",
       "Marcus Raboy              16\n",
       "Jay Karas                 14\n",
       "Cathy Garcia-Molina       13\n",
       "Jay Chapman               12\n",
       "Youssef Chahine           12\n",
       "Martin Scorsese           12\n",
       "Steven Spielberg          10\n",
       "David Dhawan               9\n",
       "Johnnie To                 8\n",
       "Name: count, dtype: int64"
      ]
     },
     "execution_count": 33,
     "metadata": {},
     "output_type": "execute_result"
    }
   ],
   "source": [
    "df['Director'].value_counts().head(10)"
   ]
  },
  {
   "cell_type": "markdown",
   "id": "b28da10d",
   "metadata": {},
   "source": [
    "Raul Campos and Jan Suter gave the heighest number of TV shows and movies."
   ]
  },
  {
   "cell_type": "markdown",
   "id": "2fa4cd1e",
   "metadata": {},
   "source": [
    "# What are the different rating defined By the Netflix ?"
   ]
  },
  {
   "cell_type": "code",
   "execution_count": 34,
   "id": "42d1e085",
   "metadata": {},
   "outputs": [
    {
     "data": {
      "text/plain": [
       "Rating\n",
       "TV-MA       2841\n",
       "TV-14       1904\n",
       "TV-PG        781\n",
       "R            665\n",
       "PG-13        386\n",
       "TV-Y         273\n",
       "TV-Y7        267\n",
       "PG           247\n",
       "TV-G         186\n",
       "NR            82\n",
       "G             39\n",
       "TV-Y7-FV       5\n",
       "UR             5\n",
       "NC-17          3\n",
       "Name: count, dtype: int64"
      ]
     },
     "execution_count": 34,
     "metadata": {},
     "output_type": "execute_result"
    }
   ],
   "source": [
    "df['Rating'].value_counts()"
   ]
  },
  {
   "cell_type": "code",
   "execution_count": 35,
   "id": "69ddead5",
   "metadata": {},
   "outputs": [
    {
     "data": {
      "text/plain": [
       "14"
      ]
     },
     "execution_count": 35,
     "metadata": {},
     "output_type": "execute_result"
    }
   ],
   "source": [
    "df['Rating'].nunique()"
   ]
  },
  {
   "cell_type": "markdown",
   "id": "a10ca2c5",
   "metadata": {},
   "source": [
    "# What is the maximum duration of Netflix On Tv Show ?"
   ]
  },
  {
   "cell_type": "markdown",
   "id": "d9058da2",
   "metadata": {},
   "source": [
    "The Duration Column has 12 tpe values one is Int and oother is Object, Seprate Both the Values Using \"str.split\" Dunction"
   ]
  },
  {
   "cell_type": "code",
   "execution_count": 36,
   "id": "24295d0a",
   "metadata": {},
   "outputs": [],
   "source": [
    "df[['Minutes' , 'Unit']] = df[\"Duration\"].str.split( \" \" , expand = True)"
   ]
  },
  {
   "cell_type": "code",
   "execution_count": 37,
   "id": "22de83c7",
   "metadata": {},
   "outputs": [],
   "source": [
    "df['Minutes']=pd.to_numeric(df.Minutes)"
   ]
  },
  {
   "cell_type": "code",
   "execution_count": 38,
   "id": "779cea06",
   "metadata": {},
   "outputs": [
    {
     "data": {
      "text/plain": [
       "312"
      ]
     },
     "execution_count": 38,
     "metadata": {},
     "output_type": "execute_result"
    }
   ],
   "source": [
    "df['Minutes'].max()"
   ]
  },
  {
   "cell_type": "markdown",
   "id": "9245c7b5",
   "metadata": {},
   "source": [
    "# How we can sort the dataset By year "
   ]
  },
  {
   "cell_type": "code",
   "execution_count": 39,
   "id": "d7bc588b",
   "metadata": {},
   "outputs": [
    {
     "data": {
      "text/html": [
       "<div>\n",
       "<style scoped>\n",
       "    .dataframe tbody tr th:only-of-type {\n",
       "        vertical-align: middle;\n",
       "    }\n",
       "\n",
       "    .dataframe tbody tr th {\n",
       "        vertical-align: top;\n",
       "    }\n",
       "\n",
       "    .dataframe thead th {\n",
       "        text-align: right;\n",
       "    }\n",
       "</style>\n",
       "<table border=\"1\" class=\"dataframe\">\n",
       "  <thead>\n",
       "    <tr style=\"text-align: right;\">\n",
       "      <th></th>\n",
       "      <th>Show_Id</th>\n",
       "      <th>Category</th>\n",
       "      <th>Title</th>\n",
       "      <th>Director</th>\n",
       "      <th>Cast</th>\n",
       "      <th>Country</th>\n",
       "      <th>Release_Date</th>\n",
       "      <th>Rating</th>\n",
       "      <th>Duration</th>\n",
       "      <th>Type</th>\n",
       "      <th>Description</th>\n",
       "      <th>year</th>\n",
       "      <th>Minutes</th>\n",
       "      <th>Unit</th>\n",
       "    </tr>\n",
       "  </thead>\n",
       "  <tbody>\n",
       "    <tr>\n",
       "      <th>1765</th>\n",
       "      <td>s1766</td>\n",
       "      <td>TV Show</td>\n",
       "      <td>Dinner for Five</td>\n",
       "      <td>NaN</td>\n",
       "      <td>unknown</td>\n",
       "      <td>United States</td>\n",
       "      <td>2008-02-04</td>\n",
       "      <td>TV-MA</td>\n",
       "      <td>1 Season</td>\n",
       "      <td>Stand-Up Comedy &amp; Talk Shows</td>\n",
       "      <td>In each episode, four celebrities join host Jo...</td>\n",
       "      <td>2008</td>\n",
       "      <td>1</td>\n",
       "      <td>Season</td>\n",
       "    </tr>\n",
       "    <tr>\n",
       "      <th>7115</th>\n",
       "      <td>s7114</td>\n",
       "      <td>Movie</td>\n",
       "      <td>To and From New York</td>\n",
       "      <td>Sorin Dan Mihalcescu</td>\n",
       "      <td>Barbara King, Shaana Diya, John Krisiukenas, Y...</td>\n",
       "      <td>United States</td>\n",
       "      <td>2008-01-01</td>\n",
       "      <td>TV-MA</td>\n",
       "      <td>81 min</td>\n",
       "      <td>Dramas, Independent Movies, Thrillers</td>\n",
       "      <td>While covering a story in New York City, a Sea...</td>\n",
       "      <td>2008</td>\n",
       "      <td>81</td>\n",
       "      <td>min</td>\n",
       "    </tr>\n",
       "    <tr>\n",
       "      <th>5766</th>\n",
       "      <td>s5766</td>\n",
       "      <td>Movie</td>\n",
       "      <td>Splatter</td>\n",
       "      <td>Joe Dante</td>\n",
       "      <td>Corey Feldman, Tony Todd, Tara Leigh, Erin Way...</td>\n",
       "      <td>United States</td>\n",
       "      <td>2009-11-18</td>\n",
       "      <td>TV-MA</td>\n",
       "      <td>29 min</td>\n",
       "      <td>Horror Movies</td>\n",
       "      <td>After committing suicide, a washed-up rocker r...</td>\n",
       "      <td>2009</td>\n",
       "      <td>29</td>\n",
       "      <td>min</td>\n",
       "    </tr>\n",
       "    <tr>\n",
       "      <th>3248</th>\n",
       "      <td>s3249</td>\n",
       "      <td>Movie</td>\n",
       "      <td>Just Another Love Story</td>\n",
       "      <td>Ole Bornedal</td>\n",
       "      <td>Anders W. Berthelsen, Rebecka Hemse, Nikolaj L...</td>\n",
       "      <td>Denmark</td>\n",
       "      <td>2009-05-05</td>\n",
       "      <td>TV-MA</td>\n",
       "      <td>104 min</td>\n",
       "      <td>Dramas, International Movies</td>\n",
       "      <td>When he causes a car accident that leaves a yo...</td>\n",
       "      <td>2009</td>\n",
       "      <td>104</td>\n",
       "      <td>min</td>\n",
       "    </tr>\n",
       "    <tr>\n",
       "      <th>3840</th>\n",
       "      <td>s3841</td>\n",
       "      <td>Movie</td>\n",
       "      <td>Mad Ron's Prevues from Hell</td>\n",
       "      <td>Jim Monaco</td>\n",
       "      <td>Nick Pawlow, Jordu Schell, Jay Kushwara, Micha...</td>\n",
       "      <td>United States</td>\n",
       "      <td>2010-11-01</td>\n",
       "      <td>NR</td>\n",
       "      <td>84 min</td>\n",
       "      <td>Cult Movies, Horror Movies</td>\n",
       "      <td>This collection cherry-picks trailers, forgott...</td>\n",
       "      <td>2010</td>\n",
       "      <td>84</td>\n",
       "      <td>min</td>\n",
       "    </tr>\n",
       "    <tr>\n",
       "      <th>...</th>\n",
       "      <td>...</td>\n",
       "      <td>...</td>\n",
       "      <td>...</td>\n",
       "      <td>...</td>\n",
       "      <td>...</td>\n",
       "      <td>...</td>\n",
       "      <td>...</td>\n",
       "      <td>...</td>\n",
       "      <td>...</td>\n",
       "      <td>...</td>\n",
       "      <td>...</td>\n",
       "      <td>...</td>\n",
       "      <td>...</td>\n",
       "      <td>...</td>\n",
       "    </tr>\n",
       "    <tr>\n",
       "      <th>6479</th>\n",
       "      <td>s6478</td>\n",
       "      <td>TV Show</td>\n",
       "      <td>The Idhun Chronicles</td>\n",
       "      <td>Maite Ruiz De Austri</td>\n",
       "      <td>Michelle Jenner, Itzan Escamilla, Sergio Mur, ...</td>\n",
       "      <td>Spain</td>\n",
       "      <td>2021-01-08</td>\n",
       "      <td>TV-14</td>\n",
       "      <td>2 Seasons</td>\n",
       "      <td>Anime Series, International TV Shows, Spanish-...</td>\n",
       "      <td>A boy suddenly orphaned fights his parents' ki...</td>\n",
       "      <td>2021</td>\n",
       "      <td>2</td>\n",
       "      <td>Seasons</td>\n",
       "    </tr>\n",
       "    <tr>\n",
       "      <th>692</th>\n",
       "      <td>s693</td>\n",
       "      <td>Movie</td>\n",
       "      <td>Bad Grandpa .5</td>\n",
       "      <td>Jeff Tremaine</td>\n",
       "      <td>Johnny Knoxville, Jackson Nicoll, Greg Harris,...</td>\n",
       "      <td>United States</td>\n",
       "      <td>2021-01-01</td>\n",
       "      <td>TV-MA</td>\n",
       "      <td>87 min</td>\n",
       "      <td>Comedies</td>\n",
       "      <td>The geriatric antics of Irving Zisman continue...</td>\n",
       "      <td>2021</td>\n",
       "      <td>87</td>\n",
       "      <td>min</td>\n",
       "    </tr>\n",
       "    <tr>\n",
       "      <th>4269</th>\n",
       "      <td>s4270</td>\n",
       "      <td>Movie</td>\n",
       "      <td>Mud</td>\n",
       "      <td>Jeff Nichols</td>\n",
       "      <td>Matthew McConaughey, Reese Witherspoon, Tye Sh...</td>\n",
       "      <td>United States</td>\n",
       "      <td>2021-01-01</td>\n",
       "      <td>PG-13</td>\n",
       "      <td>131 min</td>\n",
       "      <td>Dramas, Independent Movies</td>\n",
       "      <td>Two Mississippi teens meet peculiar drifter Mu...</td>\n",
       "      <td>2021</td>\n",
       "      <td>131</td>\n",
       "      <td>min</td>\n",
       "    </tr>\n",
       "    <tr>\n",
       "      <th>6672</th>\n",
       "      <td>s6671</td>\n",
       "      <td>Movie</td>\n",
       "      <td>The Minimalists: Less Is Now</td>\n",
       "      <td>NaN</td>\n",
       "      <td>unknown</td>\n",
       "      <td>United States</td>\n",
       "      <td>2021-01-01</td>\n",
       "      <td>TV-14</td>\n",
       "      <td>54 min</td>\n",
       "      <td>Documentaries</td>\n",
       "      <td>They've built a movement out of minimalism. Lo...</td>\n",
       "      <td>2021</td>\n",
       "      <td>54</td>\n",
       "      <td>min</td>\n",
       "    </tr>\n",
       "    <tr>\n",
       "      <th>1673</th>\n",
       "      <td>s1674</td>\n",
       "      <td>Movie</td>\n",
       "      <td>Death of Me</td>\n",
       "      <td>Darren Lynn Bousman</td>\n",
       "      <td>Maggie Q, Luke Hemsworth, Alex Essoe, Ingkarat...</td>\n",
       "      <td>United States, Thailand</td>\n",
       "      <td>2021-01-16</td>\n",
       "      <td>R</td>\n",
       "      <td>94 min</td>\n",
       "      <td>Horror Movies</td>\n",
       "      <td>With no memory of the previous night, a vacati...</td>\n",
       "      <td>2021</td>\n",
       "      <td>94</td>\n",
       "      <td>min</td>\n",
       "    </tr>\n",
       "  </tbody>\n",
       "</table>\n",
       "<p>7691 rows × 14 columns</p>\n",
       "</div>"
      ],
      "text/plain": [
       "     Show_Id Category                         Title              Director  \\\n",
       "1765   s1766  TV Show               Dinner for Five                   NaN   \n",
       "7115   s7114    Movie          To and From New York  Sorin Dan Mihalcescu   \n",
       "5766   s5766    Movie                      Splatter             Joe Dante   \n",
       "3248   s3249    Movie       Just Another Love Story          Ole Bornedal   \n",
       "3840   s3841    Movie   Mad Ron's Prevues from Hell            Jim Monaco   \n",
       "...      ...      ...                           ...                   ...   \n",
       "6479   s6478  TV Show          The Idhun Chronicles  Maite Ruiz De Austri   \n",
       "692     s693    Movie                Bad Grandpa .5         Jeff Tremaine   \n",
       "4269   s4270    Movie                           Mud          Jeff Nichols   \n",
       "6672   s6671    Movie  The Minimalists: Less Is Now                   NaN   \n",
       "1673   s1674    Movie                   Death of Me   Darren Lynn Bousman   \n",
       "\n",
       "                                                   Cast  \\\n",
       "1765                                            unknown   \n",
       "7115  Barbara King, Shaana Diya, John Krisiukenas, Y...   \n",
       "5766  Corey Feldman, Tony Todd, Tara Leigh, Erin Way...   \n",
       "3248  Anders W. Berthelsen, Rebecka Hemse, Nikolaj L...   \n",
       "3840  Nick Pawlow, Jordu Schell, Jay Kushwara, Micha...   \n",
       "...                                                 ...   \n",
       "6479  Michelle Jenner, Itzan Escamilla, Sergio Mur, ...   \n",
       "692   Johnny Knoxville, Jackson Nicoll, Greg Harris,...   \n",
       "4269  Matthew McConaughey, Reese Witherspoon, Tye Sh...   \n",
       "6672                                            unknown   \n",
       "1673  Maggie Q, Luke Hemsworth, Alex Essoe, Ingkarat...   \n",
       "\n",
       "                      Country Release_Date Rating   Duration  \\\n",
       "1765            United States   2008-02-04  TV-MA   1 Season   \n",
       "7115            United States   2008-01-01  TV-MA     81 min   \n",
       "5766            United States   2009-11-18  TV-MA     29 min   \n",
       "3248                  Denmark   2009-05-05  TV-MA    104 min   \n",
       "3840            United States   2010-11-01     NR     84 min   \n",
       "...                       ...          ...    ...        ...   \n",
       "6479                    Spain   2021-01-08  TV-14  2 Seasons   \n",
       "692             United States   2021-01-01  TV-MA     87 min   \n",
       "4269            United States   2021-01-01  PG-13    131 min   \n",
       "6672            United States   2021-01-01  TV-14     54 min   \n",
       "1673  United States, Thailand   2021-01-16      R     94 min   \n",
       "\n",
       "                                                   Type  \\\n",
       "1765                       Stand-Up Comedy & Talk Shows   \n",
       "7115              Dramas, Independent Movies, Thrillers   \n",
       "5766                                      Horror Movies   \n",
       "3248                       Dramas, International Movies   \n",
       "3840                         Cult Movies, Horror Movies   \n",
       "...                                                 ...   \n",
       "6479  Anime Series, International TV Shows, Spanish-...   \n",
       "692                                            Comedies   \n",
       "4269                         Dramas, Independent Movies   \n",
       "6672                                      Documentaries   \n",
       "1673                                      Horror Movies   \n",
       "\n",
       "                                            Description  year  Minutes  \\\n",
       "1765  In each episode, four celebrities join host Jo...  2008        1   \n",
       "7115  While covering a story in New York City, a Sea...  2008       81   \n",
       "5766  After committing suicide, a washed-up rocker r...  2009       29   \n",
       "3248  When he causes a car accident that leaves a yo...  2009      104   \n",
       "3840  This collection cherry-picks trailers, forgott...  2010       84   \n",
       "...                                                 ...   ...      ...   \n",
       "6479  A boy suddenly orphaned fights his parents' ki...  2021        2   \n",
       "692   The geriatric antics of Irving Zisman continue...  2021       87   \n",
       "4269  Two Mississippi teens meet peculiar drifter Mu...  2021      131   \n",
       "6672  They've built a movement out of minimalism. Lo...  2021       54   \n",
       "1673  With no memory of the previous night, a vacati...  2021       94   \n",
       "\n",
       "         Unit  \n",
       "1765   Season  \n",
       "7115      min  \n",
       "5766      min  \n",
       "3248      min  \n",
       "3840      min  \n",
       "...       ...  \n",
       "6479  Seasons  \n",
       "692       min  \n",
       "4269      min  \n",
       "6672      min  \n",
       "1673      min  \n",
       "\n",
       "[7691 rows x 14 columns]"
      ]
     },
     "execution_count": 39,
     "metadata": {},
     "output_type": "execute_result"
    }
   ],
   "source": [
    "df.sort_values(by='year')"
   ]
  },
  {
   "cell_type": "markdown",
   "id": "15bb8e2e",
   "metadata": {},
   "source": [
    "# Show all the Records, were \"Category\" is \"Movie\" and \"type\" is \"Horror Movies\" and \"Country\" is \"United Kingdom\". Save the data into a new dataframev(df_new)"
   ]
  },
  {
   "cell_type": "code",
   "execution_count": 40,
   "id": "9464ac7c",
   "metadata": {},
   "outputs": [
    {
     "data": {
      "text/html": [
       "<div>\n",
       "<style scoped>\n",
       "    .dataframe tbody tr th:only-of-type {\n",
       "        vertical-align: middle;\n",
       "    }\n",
       "\n",
       "    .dataframe tbody tr th {\n",
       "        vertical-align: top;\n",
       "    }\n",
       "\n",
       "    .dataframe thead th {\n",
       "        text-align: right;\n",
       "    }\n",
       "</style>\n",
       "<table border=\"1\" class=\"dataframe\">\n",
       "  <thead>\n",
       "    <tr style=\"text-align: right;\">\n",
       "      <th></th>\n",
       "      <th>Show_Id</th>\n",
       "      <th>Category</th>\n",
       "      <th>Title</th>\n",
       "      <th>Director</th>\n",
       "      <th>Cast</th>\n",
       "      <th>Country</th>\n",
       "      <th>Release_Date</th>\n",
       "      <th>Rating</th>\n",
       "      <th>Duration</th>\n",
       "      <th>Type</th>\n",
       "      <th>Description</th>\n",
       "      <th>year</th>\n",
       "      <th>Minutes</th>\n",
       "      <th>Unit</th>\n",
       "    </tr>\n",
       "  </thead>\n",
       "  <tbody>\n",
       "    <tr>\n",
       "      <th>2405</th>\n",
       "      <td>s2406</td>\n",
       "      <td>Movie</td>\n",
       "      <td>Ghosts of War</td>\n",
       "      <td>Eric Bress</td>\n",
       "      <td>Brenton Thwaites, Theo Rossi, Skylar Astin, Ky...</td>\n",
       "      <td>United Kingdom</td>\n",
       "      <td>2020-11-25</td>\n",
       "      <td>R</td>\n",
       "      <td>95 min</td>\n",
       "      <td>Horror Movies</td>\n",
       "      <td>Five, battle-worn Allied soldiers guarding a c...</td>\n",
       "      <td>2020</td>\n",
       "      <td>95</td>\n",
       "      <td>min</td>\n",
       "    </tr>\n",
       "    <tr>\n",
       "      <th>6372</th>\n",
       "      <td>s6371</td>\n",
       "      <td>Movie</td>\n",
       "      <td>The Forgotten</td>\n",
       "      <td>Oliver Frampton</td>\n",
       "      <td>Clem Tibber, Elarica Johnson, James Doherty, S...</td>\n",
       "      <td>United Kingdom</td>\n",
       "      <td>2017-09-11</td>\n",
       "      <td>TV-MA</td>\n",
       "      <td>89 min</td>\n",
       "      <td>Horror Movies</td>\n",
       "      <td>After a teenager goes to live with his father ...</td>\n",
       "      <td>2017</td>\n",
       "      <td>89</td>\n",
       "      <td>min</td>\n",
       "    </tr>\n",
       "  </tbody>\n",
       "</table>\n",
       "</div>"
      ],
      "text/plain": [
       "     Show_Id Category          Title         Director  \\\n",
       "2405   s2406    Movie  Ghosts of War       Eric Bress   \n",
       "6372   s6371    Movie  The Forgotten  Oliver Frampton   \n",
       "\n",
       "                                                   Cast         Country  \\\n",
       "2405  Brenton Thwaites, Theo Rossi, Skylar Astin, Ky...  United Kingdom   \n",
       "6372  Clem Tibber, Elarica Johnson, James Doherty, S...  United Kingdom   \n",
       "\n",
       "     Release_Date Rating Duration           Type  \\\n",
       "2405   2020-11-25      R   95 min  Horror Movies   \n",
       "6372   2017-09-11  TV-MA   89 min  Horror Movies   \n",
       "\n",
       "                                            Description  year  Minutes Unit  \n",
       "2405  Five, battle-worn Allied soldiers guarding a c...  2020       95  min  \n",
       "6372  After a teenager goes to live with his father ...  2017       89  min  "
      ]
     },
     "execution_count": 40,
     "metadata": {},
     "output_type": "execute_result"
    }
   ],
   "source": [
    "df_new=df.query('Category==\"Movie\" & Type==\"Horror Movies\" & Country==\"United Kingdom\"')\n",
    "df_new"
   ]
  },
  {
   "cell_type": "code",
   "execution_count": null,
   "id": "90f9ddce",
   "metadata": {},
   "outputs": [],
   "source": []
  },
  {
   "cell_type": "markdown",
   "id": "690ea844",
   "metadata": {},
   "source": [
    "## Save the dataframe (df_save) and load it back without the index column"
   ]
  },
  {
   "cell_type": "code",
   "execution_count": 41,
   "id": "d2766bec",
   "metadata": {},
   "outputs": [],
   "source": [
    "df_new.to_csv('df_new.csv', index=False)"
   ]
  },
  {
   "cell_type": "code",
   "execution_count": 42,
   "id": "39a6e5df",
   "metadata": {},
   "outputs": [],
   "source": [
    "df_new=pd.read_csv('df_new.csv')"
   ]
  },
  {
   "cell_type": "markdown",
   "id": "e89d1120",
   "metadata": {},
   "source": [
    "## Write a overall summary on what did you understand from this data analysis. "
   ]
  },
  {
   "cell_type": "markdown",
   "id": "1288d940",
   "metadata": {},
   "source": [
    "I understood how to utilize .head() and .tail() to display the top values and bottom values. I used fillna and isnull to fill in the missing values of the data set. I also used .plot to plot values using a bar graph. I used .value_counts to see how much data was within a specific category. We learned how to save a dataframe and reload."
   ]
  }
 ],
 "metadata": {
  "kernelspec": {
   "display_name": "Python 3 (ipykernel)",
   "language": "python",
   "name": "python3"
  },
  "language_info": {
   "codemirror_mode": {
    "name": "ipython",
    "version": 3
   },
   "file_extension": ".py",
   "mimetype": "text/x-python",
   "name": "python",
   "nbconvert_exporter": "python",
   "pygments_lexer": "ipython3",
   "version": "3.9.18"
  }
 },
 "nbformat": 4,
 "nbformat_minor": 5
}
